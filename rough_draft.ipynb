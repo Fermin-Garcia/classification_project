{
 "cells": [
  {
   "cell_type": "code",
   "execution_count": 57,
   "id": "3dca9f0f-1324-4972-929f-50c7e0f2cdde",
   "metadata": {},
   "outputs": [],
   "source": [
    "# First lets get some inports !!!\n",
    "import pandas as pd\n",
    "import numpy as np\n",
    "import matplotlib.pyplot as plt\n",
    "import seaborn as sns\n",
    "from scipy import stats\n",
    "import acquire as a \n",
    "import prepare as p \n",
    "from sklearn.model_selection import train_test_split\n",
    "import sklearn.preprocessing\n",
    "from sklearn.tree import DecisionTreeClassifier\n",
    "from sklearn.ensemble import RandomForestClassifier\n",
    "from sklearn.neighbors import KNeighborsClassifier\n",
    "from sklearn.linear_model import LogisticRegression\n",
    "\n",
    "import warnings\n",
    "warnings.filterwarnings(\"ignore\")\n",
    "#lets pull our dataframe \n",
    "df = a.get_telco_data()\n",
    "df = p.prepare_telco(df)\n",
    "df = df[p.my_list]\n",
    "# train, test, validate = p.split_data(df)"
   ]
  },
  {
   "cell_type": "code",
   "execution_count": 63,
   "id": "56613dd6-169b-46dc-8446-351c8f6d799c",
   "metadata": {},
   "outputs": [],
   "source": [
    "df = a.get_telco_data()\n",
    "customer_id = df['customer_id']\n",
    "concat_cols = [customer_id,df]\n",
    "df = pd.concat(concat_cols, axis =1, )\n",
    "df =  df.drop(columns='Unnamed: 0')\n",
    "\n",
    "\n",
    "\n"
   ]
  },
  {
   "cell_type": "markdown",
   "id": "1d3ac71b-a189-4ab8-99d0-388c2abc8b1e",
   "metadata": {},
   "source": [
    "# Now lets Explore: "
   ]
  },
  {
   "cell_type": "markdown",
   "id": "150458ca-54c6-42a5-a097-303384b033d6",
   "metadata": {
    "jp-MarkdownHeadingCollapsed": true,
    "tags": []
   },
   "source": [
    "## Lets break our columns into catagories"
   ]
  },
  {
   "cell_type": "code",
   "execution_count": 372,
   "id": "f31885d8-fc29-4bdc-9bb4-914e7a69a7aa",
   "metadata": {},
   "outputs": [],
   "source": [
    "# lets catagorize some of these lists:\n",
    "demographics = ['sex_male', 'senior_citizen', 'partner', 'dependents']\n",
    "\n",
    "\n",
    "services_provided = ['phone_service', 'multiple_lines', 'online_security', 'online_backup',\n",
    "       'device_protection', 'tech_support', 'streaming_tv', 'streaming_movies']\n",
    "\n",
    "contract_types = ['contract_type_month-to-month',\n",
    "       'contract_type_one_year', 'contract_type_two_year']\n",
    "\n",
    "billing = ['paperless_billing', 'monthly_charges', 'total_charges','tenure']\n",
    "\n",
    "\n",
    "internet_type = ['internet_service_type_dsl', 'internet_service_type_fiber_optic',\n",
    "       'internet_service_type_none']\n",
    "\n",
    "contract_type = [ 'contract_type_month-to-month',\n",
    "       'contract_type_one_year', 'contract_type_two_year']\n",
    "\n",
    "payment_types = ['payment_type_bank_transfer_(automatic)',\n",
    "       'payment_type_credit_card_(automatic)', 'payment_type_electronic_check',\n",
    "       'payment_type_mailed_check']\n",
    "\n",
    "churn = ['churn']\n"
   ]
  },
  {
   "cell_type": "markdown",
   "id": "63a7952d-16fd-4039-85a9-3221695c5378",
   "metadata": {},
   "source": [
    "# lets look at our target variable "
   ]
  },
  {
   "cell_type": "code",
   "execution_count": 365,
   "id": "3b22ba10-1c3a-4032-a92f-63cc1624b3de",
   "metadata": {},
   "outputs": [
    {
     "data": {
      "text/plain": [
       "0.22901344154197312"
      ]
     },
     "execution_count": 365,
     "metadata": {},
     "output_type": "execute_result"
    }
   ],
   "source": [
    "train.churn.mean()"
   ]
  },
  {
   "cell_type": "markdown",
   "id": "2117b707-d14c-40a7-b9ed-8e3ef05c176b",
   "metadata": {
    "jp-MarkdownHeadingCollapsed": true,
    "tags": []
   },
   "source": [
    "# So we average about a 23 percent churn rate so lets dive in and see if we can find corrolations. \n"
   ]
  },
  {
   "cell_type": "code",
   "execution_count": 59,
   "id": "a4da7db0-aeda-41d2-8ebe-7e90f3b644ce",
   "metadata": {},
   "outputs": [
    {
     "data": {
      "text/html": [
       "<div>\n",
       "<style scoped>\n",
       "    .dataframe tbody tr th:only-of-type {\n",
       "        vertical-align: middle;\n",
       "    }\n",
       "\n",
       "    .dataframe tbody tr th {\n",
       "        vertical-align: top;\n",
       "    }\n",
       "\n",
       "    .dataframe thead th {\n",
       "        text-align: right;\n",
       "    }\n",
       "</style>\n",
       "<table border=\"1\" class=\"dataframe\">\n",
       "  <thead>\n",
       "    <tr style=\"text-align: right;\">\n",
       "      <th></th>\n",
       "      <th>sex_male</th>\n",
       "      <th>senior_citizen</th>\n",
       "      <th>partner</th>\n",
       "      <th>dependents</th>\n",
       "      <th>tenure</th>\n",
       "      <th>phone_service</th>\n",
       "      <th>multiple_lines</th>\n",
       "      <th>online_security</th>\n",
       "      <th>online_backup</th>\n",
       "      <th>device_protection</th>\n",
       "      <th>...</th>\n",
       "      <th>internet_service_type_fiber_optic</th>\n",
       "      <th>internet_service_type_none</th>\n",
       "      <th>contract_type_month-to-month</th>\n",
       "      <th>contract_type_one_year</th>\n",
       "      <th>contract_type_two_year</th>\n",
       "      <th>payment_type_bank_transfer_(automatic)</th>\n",
       "      <th>payment_type_credit_card_(automatic)</th>\n",
       "      <th>payment_type_electronic_check</th>\n",
       "      <th>payment_type_mailed_check</th>\n",
       "      <th>churn</th>\n",
       "    </tr>\n",
       "  </thead>\n",
       "  <tbody>\n",
       "    <tr>\n",
       "      <th>5970</th>\n",
       "      <td>0</td>\n",
       "      <td>0</td>\n",
       "      <td>1</td>\n",
       "      <td>0</td>\n",
       "      <td>47</td>\n",
       "      <td>1</td>\n",
       "      <td>1</td>\n",
       "      <td>1</td>\n",
       "      <td>1</td>\n",
       "      <td>1</td>\n",
       "      <td>...</td>\n",
       "      <td>0</td>\n",
       "      <td>1</td>\n",
       "      <td>0</td>\n",
       "      <td>1</td>\n",
       "      <td>0</td>\n",
       "      <td>0</td>\n",
       "      <td>0</td>\n",
       "      <td>0</td>\n",
       "      <td>1</td>\n",
       "      <td>0</td>\n",
       "    </tr>\n",
       "    <tr>\n",
       "      <th>3308</th>\n",
       "      <td>0</td>\n",
       "      <td>0</td>\n",
       "      <td>1</td>\n",
       "      <td>0</td>\n",
       "      <td>68</td>\n",
       "      <td>1</td>\n",
       "      <td>1</td>\n",
       "      <td>1</td>\n",
       "      <td>0</td>\n",
       "      <td>0</td>\n",
       "      <td>...</td>\n",
       "      <td>1</td>\n",
       "      <td>0</td>\n",
       "      <td>0</td>\n",
       "      <td>0</td>\n",
       "      <td>1</td>\n",
       "      <td>0</td>\n",
       "      <td>1</td>\n",
       "      <td>0</td>\n",
       "      <td>0</td>\n",
       "      <td>0</td>\n",
       "    </tr>\n",
       "    <tr>\n",
       "      <th>6058</th>\n",
       "      <td>1</td>\n",
       "      <td>0</td>\n",
       "      <td>1</td>\n",
       "      <td>1</td>\n",
       "      <td>43</td>\n",
       "      <td>1</td>\n",
       "      <td>1</td>\n",
       "      <td>1</td>\n",
       "      <td>0</td>\n",
       "      <td>0</td>\n",
       "      <td>...</td>\n",
       "      <td>1</td>\n",
       "      <td>0</td>\n",
       "      <td>0</td>\n",
       "      <td>0</td>\n",
       "      <td>1</td>\n",
       "      <td>0</td>\n",
       "      <td>0</td>\n",
       "      <td>1</td>\n",
       "      <td>0</td>\n",
       "      <td>0</td>\n",
       "    </tr>\n",
       "    <tr>\n",
       "      <th>210</th>\n",
       "      <td>1</td>\n",
       "      <td>0</td>\n",
       "      <td>0</td>\n",
       "      <td>0</td>\n",
       "      <td>8</td>\n",
       "      <td>1</td>\n",
       "      <td>0</td>\n",
       "      <td>0</td>\n",
       "      <td>0</td>\n",
       "      <td>1</td>\n",
       "      <td>...</td>\n",
       "      <td>0</td>\n",
       "      <td>1</td>\n",
       "      <td>0</td>\n",
       "      <td>1</td>\n",
       "      <td>0</td>\n",
       "      <td>0</td>\n",
       "      <td>0</td>\n",
       "      <td>0</td>\n",
       "      <td>1</td>\n",
       "      <td>0</td>\n",
       "    </tr>\n",
       "    <tr>\n",
       "      <th>4809</th>\n",
       "      <td>0</td>\n",
       "      <td>0</td>\n",
       "      <td>1</td>\n",
       "      <td>0</td>\n",
       "      <td>58</td>\n",
       "      <td>1</td>\n",
       "      <td>1</td>\n",
       "      <td>0</td>\n",
       "      <td>1</td>\n",
       "      <td>0</td>\n",
       "      <td>...</td>\n",
       "      <td>1</td>\n",
       "      <td>0</td>\n",
       "      <td>0</td>\n",
       "      <td>0</td>\n",
       "      <td>0</td>\n",
       "      <td>1</td>\n",
       "      <td>0</td>\n",
       "      <td>1</td>\n",
       "      <td>0</td>\n",
       "      <td>0</td>\n",
       "    </tr>\n",
       "  </tbody>\n",
       "</table>\n",
       "<p>5 rows × 27 columns</p>\n",
       "</div>"
      ],
      "text/plain": [
       "      sex_male  senior_citizen  partner  dependents  tenure  phone_service  \\\n",
       "5970         0               0        1           0      47              1   \n",
       "3308         0               0        1           0      68              1   \n",
       "6058         1               0        1           1      43              1   \n",
       "210          1               0        0           0       8              1   \n",
       "4809         0               0        1           0      58              1   \n",
       "\n",
       "      multiple_lines  online_security  online_backup  device_protection  ...  \\\n",
       "5970               1                1              1                  1  ...   \n",
       "3308               1                1              0                  0  ...   \n",
       "6058               1                1              0                  0  ...   \n",
       "210                0                0              0                  1  ...   \n",
       "4809               1                0              1                  0  ...   \n",
       "\n",
       "      internet_service_type_fiber_optic  internet_service_type_none  \\\n",
       "5970                                  0                           1   \n",
       "3308                                  1                           0   \n",
       "6058                                  1                           0   \n",
       "210                                   0                           1   \n",
       "4809                                  1                           0   \n",
       "\n",
       "      contract_type_month-to-month  contract_type_one_year  \\\n",
       "5970                             0                       1   \n",
       "3308                             0                       0   \n",
       "6058                             0                       0   \n",
       "210                              0                       1   \n",
       "4809                             0                       0   \n",
       "\n",
       "      contract_type_two_year  payment_type_bank_transfer_(automatic)  \\\n",
       "5970                       0                                       0   \n",
       "3308                       1                                       0   \n",
       "6058                       1                                       0   \n",
       "210                        0                                       0   \n",
       "4809                       0                                       1   \n",
       "\n",
       "      payment_type_credit_card_(automatic)  payment_type_electronic_check  \\\n",
       "5970                                     0                              0   \n",
       "3308                                     1                              0   \n",
       "6058                                     0                              1   \n",
       "210                                      0                              0   \n",
       "4809                                     0                              1   \n",
       "\n",
       "      payment_type_mailed_check  churn  \n",
       "5970                          1      0  \n",
       "3308                          0      0  \n",
       "6058                          0      0  \n",
       "210                           1      0  \n",
       "4809                          0      0  \n",
       "\n",
       "[5 rows x 27 columns]"
      ]
     },
     "execution_count": 59,
     "metadata": {},
     "output_type": "execute_result"
    }
   ],
   "source": [
    "train.head()"
   ]
  },
  {
   "cell_type": "markdown",
   "id": "961a14c4-d3cc-42b1-b9e8-89d06b13b93c",
   "metadata": {
    "tags": []
   },
   "source": [
    "# Let's look for patterns only on churn values"
   ]
  },
  {
   "cell_type": "code",
   "execution_count": 370,
   "id": "3c8121ab-6b4f-4200-a6ac-aae6806b8106",
   "metadata": {},
   "outputs": [],
   "source": [
    "churned_customers = train[train['churn'] == 1]"
   ]
  },
  {
   "cell_type": "markdown",
   "id": "a566963f-530a-4354-98e4-707896dcb853",
   "metadata": {
    "tags": []
   },
   "source": [
    "## Most of these look like they are rather standard across the board and dont really tell us anything about churn"
   ]
  },
  {
   "cell_type": "code",
   "execution_count": 373,
   "id": "3172ce53-e2ce-49ef-b373-133a10839b03",
   "metadata": {},
   "outputs": [],
   "source": [
    "# can we see any trends witht the stats summary \n",
    "# churned_customers.describe() \n",
    "(churned_customers[services_provided].sum()) / len(services_provided)\n",
    "# train \n",
    "# churned_customers= train.drop(columns=services_provided)\n",
    "# churned_customers.shape\n",
    "churned_customers = churned_customers.drop(columns=services_provided)"
   ]
  },
  {
   "cell_type": "code",
   "execution_count": 374,
   "id": "572bb039-401d-4bad-adb5-274f09b41282",
   "metadata": {},
   "outputs": [
    {
     "data": {
      "text/plain": [
       "contract_type_month-to-month    52.875\n",
       "contract_type_one_year          63.250\n",
       "contract_type_two_year          23.375\n",
       "dtype: float64"
      ]
     },
     "execution_count": 374,
     "metadata": {},
     "output_type": "execute_result"
    }
   ],
   "source": [
    "(churned_customers[contract_types].sum()) / len(services_provided)"
   ]
  },
  {
   "cell_type": "code",
   "execution_count": 375,
   "id": "59de8305-7189-4393-8027-0bd248314029",
   "metadata": {},
   "outputs": [
    {
     "data": {
      "text/plain": [
       "internet_service_type_dsl            21.875\n",
       "internet_service_type_fiber_optic    41.625\n",
       "internet_service_type_none           18.375\n",
       "dtype: float64"
      ]
     },
     "execution_count": 375,
     "metadata": {},
     "output_type": "execute_result"
    }
   ],
   "source": [
    "(churned_customers[internet_type].sum()) / len(services_provided)"
   ]
  },
  {
   "cell_type": "markdown",
   "id": "0546a7ae-6ca2-48bc-85e1-b167aea81bbe",
   "metadata": {},
   "source": [
    "## Here is a continuous variable, so we wouldnt treat it like the other numerical \n",
    "## took the average to see where the average billing information was for customers who churn\n",
    "## it also looks like paperless billings is trying to tell us 41 % of customers who churn are signed up for paperless_billing,\n",
    "## it is silly to think that customers churn because they dont get paper bills in the mail so we will drop the column. It almost feels\n",
    "## discrimitory to judge soley based off demographics.\n"
   ]
  },
  {
   "cell_type": "code",
   "execution_count": 385,
   "id": "887206f6-960d-475e-b279-1ecaa042f447",
   "metadata": {},
   "outputs": [],
   "source": [
    "# billing.remove('paperless_billing')\n",
    "round((churned_customers[billing]).mean(),2)\n",
    "# churned_customers = churned_customers.drop(columns= 'paperless_billing')\n",
    "# churned_customers = churned_customers.drop(columns= demographics)\n",
    "churned_customers = churned_customers.drop(columns= payment_types)"
   ]
  },
  {
   "cell_type": "code",
   "execution_count": null,
   "id": "283a43b7-0e72-4e79-8486-70128aab9dbc",
   "metadata": {},
   "outputs": [],
   "source": []
  },
  {
   "cell_type": "markdown",
   "id": "6a197070-984f-4957-a1b2-0daa8c11d6ff",
   "metadata": {},
   "source": [
    "## We want to check if it is possible to predict churn base off the following features:\n",
    "- total_charges\n",
    "- monthly_total\n",
    "- Internet_service_type: fiber optics\n",
    "- Tenure\n",
    "\n",
    "\n",
    "\n",
    "# We will keep the retain related variables and get rid of irreleveant features if any"
   ]
  },
  {
   "cell_type": "code",
   "execution_count": 585,
   "id": "222a8450-1e99-4986-b729-d17c5654f5a7",
   "metadata": {},
   "outputs": [],
   "source": [
    "train['baseline'] = 0\n",
    "train = train.drop(columns='count'"
   ]
  },
  {
   "cell_type": "code",
   "execution_count": 408,
   "id": "a65318a1-03d9-4412-b06d-ea2286fdd769",
   "metadata": {},
   "outputs": [],
   "source": [
    "churned_customers = churned_customers.drop(columns= contract_type)a"
   ]
  },
  {
   "cell_type": "code",
   "execution_count": 422,
   "id": "c7014467-8692-43af-aba3-689690300365",
   "metadata": {},
   "outputs": [
    {
     "data": {
      "text/plain": [
       "36.87707641196013"
      ]
     },
     "execution_count": 422,
     "metadata": {},
     "output_type": "execute_result"
    }
   ],
   "source": [
    "churned_customers.internet_service_type_fiber_optic.sum()/ len(churned_customers) * 100"
   ]
  },
  {
   "cell_type": "code",
   "execution_count": 426,
   "id": "e5c5519a-1b42-4d02-995b-2ee57e458717",
   "metadata": {},
   "outputs": [],
   "source": [
    "churned_customers = churned_customers.drop(columns = ['internet_service_type_dsl', 'internet_service_type_none'])"
   ]
  },
  {
   "cell_type": "code",
   "execution_count": 462,
   "id": "fb36f8f5-a8fc-4af6-b165-13147dbcff5f",
   "metadata": {},
   "outputs": [],
   "source": [
    "# Here we set the columns we want.\n",
    "\n",
    "new_train_df = ['tenure', 'monthly_charges', 'total_charges',\n",
    "       'internet_service_type_fiber_optic','churn']\n"
   ]
  },
  {
   "cell_type": "code",
   "execution_count": 464,
   "id": "750edda0-8cdd-4017-970d-a30ffabc0f87",
   "metadata": {},
   "outputs": [],
   "source": [
    "train = train[new_train_df]\n",
    "    \n"
   ]
  },
  {
   "cell_type": "markdown",
   "id": "1a57d463-f247-4ae4-acf6-8bb541cc0e7c",
   "metadata": {
    "tags": []
   },
   "source": [
    "## Now let's get graphing "
   ]
  },
  {
   "cell_type": "code",
   "execution_count": 523,
   "id": "1ea2fb1a-b96c-4586-b9c7-a1b78707cfb5",
   "metadata": {},
   "outputs": [
    {
     "data": {
      "text/plain": [
       "0.08445346183109308"
      ]
     },
     "execution_count": 523,
     "metadata": {},
     "output_type": "execute_result"
    }
   ],
   "source": [
    "((train['internet_service_type_fiber_optic'] == 1) & (train['churn'] == 1)).sum()/len(train) "
   ]
  },
  {
   "cell_type": "code",
   "execution_count": 533,
   "id": "94ad65c3-d97f-4d26-9438-82ea7371e014",
   "metadata": {},
   "outputs": [
    {
     "data": {
      "text/html": [
       "<div>\n",
       "<style scoped>\n",
       "    .dataframe tbody tr th:only-of-type {\n",
       "        vertical-align: middle;\n",
       "    }\n",
       "\n",
       "    .dataframe tbody tr th {\n",
       "        vertical-align: top;\n",
       "    }\n",
       "\n",
       "    .dataframe thead th {\n",
       "        text-align: right;\n",
       "    }\n",
       "</style>\n",
       "<table border=\"1\" class=\"dataframe\">\n",
       "  <thead>\n",
       "    <tr style=\"text-align: right;\">\n",
       "      <th></th>\n",
       "      <th>tenure</th>\n",
       "      <th>monthly_charges</th>\n",
       "      <th>total_charges</th>\n",
       "      <th>internet_service_type_fiber_optic</th>\n",
       "      <th>churn</th>\n",
       "      <th>count</th>\n",
       "    </tr>\n",
       "  </thead>\n",
       "  <tbody>\n",
       "    <tr>\n",
       "      <th>tenure</th>\n",
       "      <td>1.000000</td>\n",
       "      <td>0.260592</td>\n",
       "      <td>0.826140</td>\n",
       "      <td>-0.002713</td>\n",
       "      <td>-0.249250</td>\n",
       "      <td>NaN</td>\n",
       "    </tr>\n",
       "    <tr>\n",
       "      <th>monthly_charges</th>\n",
       "      <td>0.260592</td>\n",
       "      <td>1.000000</td>\n",
       "      <td>0.659389</td>\n",
       "      <td>-0.166261</td>\n",
       "      <td>-0.389702</td>\n",
       "      <td>NaN</td>\n",
       "    </tr>\n",
       "    <tr>\n",
       "      <th>total_charges</th>\n",
       "      <td>0.826140</td>\n",
       "      <td>0.659389</td>\n",
       "      <td>1.000000</td>\n",
       "      <td>-0.070949</td>\n",
       "      <td>-0.309569</td>\n",
       "      <td>NaN</td>\n",
       "    </tr>\n",
       "    <tr>\n",
       "      <th>internet_service_type_fiber_optic</th>\n",
       "      <td>-0.002713</td>\n",
       "      <td>-0.166261</td>\n",
       "      <td>-0.070949</td>\n",
       "      <td>1.000000</td>\n",
       "      <td>0.031204</td>\n",
       "      <td>NaN</td>\n",
       "    </tr>\n",
       "    <tr>\n",
       "      <th>churn</th>\n",
       "      <td>-0.249250</td>\n",
       "      <td>-0.389702</td>\n",
       "      <td>-0.309569</td>\n",
       "      <td>0.031204</td>\n",
       "      <td>1.000000</td>\n",
       "      <td>NaN</td>\n",
       "    </tr>\n",
       "    <tr>\n",
       "      <th>count</th>\n",
       "      <td>NaN</td>\n",
       "      <td>NaN</td>\n",
       "      <td>NaN</td>\n",
       "      <td>NaN</td>\n",
       "      <td>NaN</td>\n",
       "      <td>NaN</td>\n",
       "    </tr>\n",
       "  </tbody>\n",
       "</table>\n",
       "</div>"
      ],
      "text/plain": [
       "                                     tenure  monthly_charges  total_charges  \\\n",
       "tenure                             1.000000         0.260592       0.826140   \n",
       "monthly_charges                    0.260592         1.000000       0.659389   \n",
       "total_charges                      0.826140         0.659389       1.000000   \n",
       "internet_service_type_fiber_optic -0.002713        -0.166261      -0.070949   \n",
       "churn                             -0.249250        -0.389702      -0.309569   \n",
       "count                                   NaN              NaN            NaN   \n",
       "\n",
       "                                   internet_service_type_fiber_optic  \\\n",
       "tenure                                                     -0.002713   \n",
       "monthly_charges                                            -0.166261   \n",
       "total_charges                                              -0.070949   \n",
       "internet_service_type_fiber_optic                           1.000000   \n",
       "churn                                                       0.031204   \n",
       "count                                                            NaN   \n",
       "\n",
       "                                      churn  count  \n",
       "tenure                            -0.249250    NaN  \n",
       "monthly_charges                   -0.389702    NaN  \n",
       "total_charges                     -0.309569    NaN  \n",
       "internet_service_type_fiber_optic  0.031204    NaN  \n",
       "churn                              1.000000    NaN  \n",
       "count                                   NaN    NaN  "
      ]
     },
     "execution_count": 533,
     "metadata": {},
     "output_type": "execute_result"
    }
   ],
   "source": [
    "corrorlation_matrix = train.corr()\n",
    "corrorlation_matrix"
   ]
  },
  {
   "cell_type": "code",
   "execution_count": 543,
   "id": "5c1f4ab2-ae4c-4bb7-843c-62fe9bf4e7b6",
   "metadata": {},
   "outputs": [
    {
     "data": {
      "image/png": "[encoded data removed]",
      "text/plain": [
       "<Figure size 640x480 with 1 Axes>"
      ]
     },
     "metadata": {},
     "output_type": "display_data"
    }
   ],
   "source": [
    "sns.distplot(train)\n",
    "plt.show()"
   ]
  },
  {
   "cell_type": "markdown",
   "id": "5fd551e8-f29b-414e-9253-d6935506c137",
   "metadata": {
    "jp-MarkdownHeadingCollapsed": true,
    "tags": []
   },
   "source": [
    "## Lets test this theory."
   ]
  },
  {
   "cell_type": "markdown",
   "id": "03432a41-c3df-436e-908c-aebfc218a346",
   "metadata": {
    "jp-MarkdownHeadingCollapsed": true,
    "tags": []
   },
   "source": [
    "## H$_0$: There is no linear connection between monthly charges churn rate"
   ]
  },
  {
   "cell_type": "markdown",
   "id": "f0c96ece-4749-44f9-a0fa-d5d91830ec54",
   "metadata": {
    "jp-MarkdownHeadingCollapsed": true,
    "tags": []
   },
   "source": [
    "## H$_a$: There is linear connection between monthly charges  and churn rate"
   ]
  },
  {
   "cell_type": "code",
   "execution_count": null,
   "id": "6774d98e-6a76-402a-90c2-d51477ded54c",
   "metadata": {},
   "outputs": [],
   "source": []
  },
  {
   "cell_type": "markdown",
   "id": "aeb7c09b-33f9-4f5f-8a28-e1b3461bbdd7",
   "metadata": {
    "jp-MarkdownHeadingCollapsed": true,
    "tags": []
   },
   "source": [
    "# H$_0$: There is no linear connection between tenure and churn rate"
   ]
  },
  {
   "cell_type": "markdown",
   "id": "da25034a-ff78-453d-88d2-dbeda75f3f8a",
   "metadata": {
    "jp-MarkdownHeadingCollapsed": true,
    "tags": []
   },
   "source": [
    "# H$_a$: There is linear connection between tenure and churn rate"
   ]
  },
  {
   "cell_type": "code",
   "execution_count": null,
   "id": "714652b7-a09e-41c9-8cbf-713e7b85b4bf",
   "metadata": {},
   "outputs": [],
   "source": []
  },
  {
   "cell_type": "markdown",
   "id": "eab633b4-a855-4571-bb51-869a47df6aa6",
   "metadata": {
    "jp-MarkdownHeadingCollapsed": true,
    "tags": []
   },
   "source": [
    "# H$_0$: There is no linear connection between total charges churn rate"
   ]
  },
  {
   "cell_type": "markdown",
   "id": "54b9ade6-5500-4cd7-b558-9a057aa84f2c",
   "metadata": {
    "jp-MarkdownHeadingCollapsed": true,
    "tags": []
   },
   "source": [
    "# H$_a$: There is linear connection between total charges and churn rate"
   ]
  },
  {
   "cell_type": "code",
   "execution_count": null,
   "id": "c95b315e-1436-4f49-8d5e-33020136514e",
   "metadata": {},
   "outputs": [],
   "source": []
  },
  {
   "cell_type": "markdown",
   "id": "734add99-4b56-4764-b86c-f47769d8cb2f",
   "metadata": {
    "jp-MarkdownHeadingCollapsed": true,
    "tags": []
   },
   "source": [
    "# H$_0$: There is no linear connection between fiber optic internet type churn rate"
   ]
  },
  {
   "cell_type": "markdown",
   "id": "4d70b390-16ac-4c13-b218-00e8bd5caa37",
   "metadata": {
    "tags": []
   },
   "source": [
    "# H$_a$: There is linear connection between fiber optic internet type and churn rate"
   ]
  },
  {
   "cell_type": "code",
   "execution_count": null,
   "id": "f1964a8e-86ce-434f-a566-c72b993804bd",
   "metadata": {},
   "outputs": [],
   "source": []
  },
  {
   "cell_type": "markdown",
   "id": "a8b88a13-c6fc-4f12-a8d7-e646c1e87543",
   "metadata": {
    "tags": []
   },
   "source": [
    "# Let's Do modeling "
   ]
  },
  {
   "cell_type": "markdown",
   "id": "2c456938-a3e6-43b5-bfc6-34684c10ef45",
   "metadata": {
    "tags": []
   },
   "source": [
    "## Lets warm up and define some values"
   ]
  },
  {
   "cell_type": "code",
   "execution_count": 3,
   "id": "17d88b40-6780-4ec8-baea-8a8543d93530",
   "metadata": {},
   "outputs": [],
   "source": [
    "from sklearn.tree import DecisionTreeClassifier, plot_tree\n",
    "from sklearn.metrics import classification_report\n",
    "from sklearn.metrics import confusion_matrix\n",
    "# just a reminder of what were working with \n",
    "\n",
    "X_train = train.drop(columns=['churn'])\n",
    "y_train = train.churn\n",
    "\n",
    "X_validate = validate.drop(columns=['churn'])\n",
    "y_validate = validate.churn\n",
    "\n",
    "X_test = test.drop(columns=['churn'])\n",
    "y_test = test.churn"
   ]
  },
  {
   "cell_type": "markdown",
   "id": "059b1c56-d81f-44f1-b106-d403f267376b",
   "metadata": {
    "tags": []
   },
   "source": [
    "## From the wise word of a very talent data scientist "
   ]
  },
  {
   "cell_type": "code",
   "execution_count": 4,
   "id": "bec1b94c-f0db-4e79-8e6f-b09e2646b81e",
   "metadata": {},
   "outputs": [
    {
     "name": "stdout",
     "output_type": "stream",
     "text": [
      "Accuracy of Decision Tree classifier on training set: 0.99\n"
     ]
    }
   ],
   "source": [
    "DecisionTreeClassifier()\n",
    "# make the thing\n",
    "clf = DecisionTreeClassifier()\n",
    "# fit the thing\n",
    "clf = clf.fit(X_train,y_train)\n",
    "# use the thing\n",
    "y_pred = clf.predict(X_train)\n",
    "\n",
    "(train['churn'] == y_pred).mean()\n",
    "\n",
    "y_pred_proba = clf.predict_proba(X_train)\n",
    "y_pred_proba[0:5]\n",
    "print('Accuracy of Decision Tree classifier on training set: {:.2f}'\n",
    "      .format(clf.score(X_train, y_train)))"
   ]
  },
  {
   "cell_type": "markdown",
   "id": "715d9e9e-624d-49fa-9ef3-1597b0bbf430",
   "metadata": {},
   "source": [
    "## Lets make a few models "
   ]
  },
  {
   "cell_type": "code",
   "execution_count": 19,
   "id": "2ea8bf25-b03c-466a-a7bd-578b6395799e",
   "metadata": {},
   "outputs": [
    {
     "name": "stdout",
     "output_type": "stream",
     "text": [
      "Accuracy of Decision Tree classifier on training set: 0.77\n",
      "Accuracy of Decision Tree classifier on validate set: 0.77\n",
      "Accuracy of Decision Tree classifier on test set: 0.77\n",
      "-----------------------------------------------------------\n",
      "Accuracy of Decision Tree classifier on training set: 0.78\n",
      "Accuracy of Decision Tree classifier on validate set: 0.76\n",
      "Accuracy of Decision Tree classifier on test set: 0.77\n",
      "-----------------------------------------------------------\n",
      "Accuracy of Decision Tree classifier on training set: 0.80\n",
      "Accuracy of Decision Tree classifier on validate set: 0.79\n",
      "Accuracy of Decision Tree classifier on test set: 0.79\n",
      "-----------------------------------------------------------\n",
      "Accuracy of Decision Tree classifier on training set: 0.80\n",
      "Accuracy of Decision Tree classifier on validate set: 0.79\n",
      "Accuracy of Decision Tree classifier on test set: 0.80\n",
      "-----------------------------------------------------------\n",
      "Accuracy of Decision Tree classifier on training set: 0.81\n",
      "Accuracy of Decision Tree classifier on validate set: 0.78\n",
      "Accuracy of Decision Tree classifier on test set: 0.80\n",
      "-----------------------------------------------------------\n",
      "Accuracy of Decision Tree classifier on training set: 0.82\n",
      "Accuracy of Decision Tree classifier on validate set: 0.78\n",
      "Accuracy of Decision Tree classifier on test set: 0.80\n",
      "-----------------------------------------------------------\n",
      "Accuracy of Decision Tree classifier on training set: 0.82\n",
      "Accuracy of Decision Tree classifier on validate set: 0.78\n",
      "Accuracy of Decision Tree classifier on test set: 0.80\n",
      "-----------------------------------------------------------\n",
      "Accuracy of Decision Tree classifier on training set: 0.84\n",
      "Accuracy of Decision Tree classifier on validate set: 0.77\n",
      "Accuracy of Decision Tree classifier on test set: 0.77\n",
      "-----------------------------------------------------------\n",
      "Accuracy of Decision Tree classifier on training set: 0.85\n",
      "Accuracy of Decision Tree classifier on validate set: 0.77\n",
      "Accuracy of Decision Tree classifier on test set: 0.77\n",
      "-----------------------------------------------------------\n",
      "Accuracy of Decision Tree classifier on training set: 0.86\n",
      "Accuracy of Decision Tree classifier on validate set: 0.76\n",
      "Accuracy of Decision Tree classifier on test set: 0.76\n",
      "-----------------------------------------------------------\n",
      "Accuracy of Decision Tree classifier on training set: 0.88\n",
      "Accuracy of Decision Tree classifier on validate set: 0.75\n",
      "Accuracy of Decision Tree classifier on test set: 0.75\n",
      "-----------------------------------------------------------\n",
      "Accuracy of Decision Tree classifier on training set: 0.89\n",
      "Accuracy of Decision Tree classifier on validate set: 0.72\n",
      "Accuracy of Decision Tree classifier on test set: 0.74\n",
      "-----------------------------------------------------------\n",
      "Accuracy of Decision Tree classifier on training set: 0.91\n",
      "Accuracy of Decision Tree classifier on validate set: 0.72\n",
      "Accuracy of Decision Tree classifier on test set: 0.74\n",
      "-----------------------------------------------------------\n",
      "Accuracy of Decision Tree classifier on training set: 0.93\n",
      "Accuracy of Decision Tree classifier on validate set: 0.71\n",
      "Accuracy of Decision Tree classifier on test set: 0.73\n",
      "-----------------------------------------------------------\n",
      "Accuracy of Decision Tree classifier on training set: 0.94\n",
      "Accuracy of Decision Tree classifier on validate set: 0.71\n",
      "Accuracy of Decision Tree classifier on test set: 0.73\n",
      "-----------------------------------------------------------\n",
      "Accuracy of Decision Tree classifier on training set: 0.96\n",
      "Accuracy of Decision Tree classifier on validate set: 0.70\n",
      "Accuracy of Decision Tree classifier on test set: 0.72\n",
      "-----------------------------------------------------------\n",
      "Accuracy of Decision Tree classifier on training set: 0.97\n",
      "Accuracy of Decision Tree classifier on validate set: 0.70\n",
      "Accuracy of Decision Tree classifier on test set: 0.72\n",
      "-----------------------------------------------------------\n",
      "Accuracy of Decision Tree classifier on training set: 0.97\n",
      "Accuracy of Decision Tree classifier on validate set: 0.69\n",
      "Accuracy of Decision Tree classifier on test set: 0.71\n",
      "-----------------------------------------------------------\n",
      "Accuracy of Decision Tree classifier on training set: 0.97\n",
      "Accuracy of Decision Tree classifier on validate set: 0.69\n",
      "Accuracy of Decision Tree classifier on test set: 0.71\n",
      "-----------------------------------------------------------\n"
     ]
    }
   ],
   "source": [
    "for nums in range(1,20):\n",
    "    # make the thing\n",
    "    clf = DecisionTreeClassifier(max_depth= (nums))\n",
    "    # fit the thing\n",
    "    clf = clf.fit(X_train,y_train)\n",
    "    # use the thing\n",
    "    y_pred = clf.predict(X_train)\n",
    "\n",
    "\n",
    "    y_pred_proba = clf.predict_proba(X_train)\n",
    "    y_pred_proba[0:5]\n",
    "    print('Accuracy of Decision Tree classifier on training set: {:.2f}'\n",
    "          .format(clf.score(X_train, y_train)))\n",
    "    print('Accuracy of Decision Tree classifier on validate set: {:.2f}'\n",
    "     .format(clf.score(X_validate, y_validate)))\n",
    "    print('Accuracy of Decision Tree classifier on test set: {:.2f}'\n",
    "     .format(clf.score(X_test, y_test)))\n",
    "    print('-----------------------------------------------------------')\n",
    "    "
   ]
  },
  {
   "cell_type": "code",
   "execution_count": null,
   "id": "c7bb8d67-b3c6-4a01-b474-54f6128115c3",
   "metadata": {},
   "outputs": [],
   "source": []
  },
  {
   "cell_type": "code",
   "execution_count": 23,
   "id": "496f597f-c070-46ac-95e0-af1cca497d8b",
   "metadata": {},
   "outputs": [
    {
     "name": "stdout",
     "output_type": "stream",
     "text": [
      "Accuracy of random forest classifier on training set: 0.99\n",
      "Accuracy of random forest classifier on test set: 0.77\n"
     ]
    }
   ],
   "source": [
    "from sklearn.ensemble import RandomForestClassifier\n",
    "rf = RandomForestClassifier()\n",
    "\n",
    "rf.fit(X_train, y_train)\n",
    "\n",
    "y_pred = rf.predict(X_train)\n",
    "\n",
    "print('Accuracy of random forest classifier on training set: {:.2f}'\n",
    "     .format(rf.score(X_train, y_train)))\n",
    "\n",
    "print('Accuracy of random forest classifier on test set: {:.2f}'\n",
    "     .format(rf.score(X_validate, y_validate)))\n",
    "\n"
   ]
  },
  {
   "cell_type": "code",
   "execution_count": 30,
   "id": "c3045615-d8ff-4782-884d-fd6375cda730",
   "metadata": {},
   "outputs": [
    {
     "data": {
      "text/plain": [
       "tenure                               0\n",
       "monthly_charges                      0\n",
       "total_charges                        0\n",
       "internet_service_type_fiber_optic    0\n",
       "churn                                0\n",
       "dtype: int64"
      ]
     },
     "execution_count": 30,
     "metadata": {},
     "output_type": "execute_result"
    }
   ],
   "source": [
    "df.isnull().sum()"
   ]
  },
  {
   "cell_type": "markdown",
   "id": "4b9be390-c800-4ed4-846d-13a4898df366",
   "metadata": {},
   "source": [
    "# **Note:** that the order of the y_pred and y_proba are numpy arrays coming from running the model on X_test. The order of those values will match the order of the rows\n",
    "# in X_test, so you can obtain the customer_id from X_test and concatenate these values together into a dataframe to write to CSV."
   ]
  },
  {
   "cell_type": "code",
   "execution_count": 32,
   "id": "175db10b-1614-4e54-aaa3-b1aea1fa88dc",
   "metadata": {},
   "outputs": [
    {
     "data": {
      "text/plain": [
       "array([[1., 0.],\n",
       "       [1., 0.],\n",
       "       [1., 0.],\n",
       "       [1., 0.],\n",
       "       [1., 0.]])"
      ]
     },
     "execution_count": 32,
     "metadata": {},
     "output_type": "execute_result"
    }
   ],
   "source": [
    "y_pred_proba = clf.predict_proba(X_train)\n",
    "y_pred_proba[0:5]"
   ]
  },
  {
   "cell_type": "code",
   "execution_count": 34,
   "id": "f25177e8-1c69-44d5-a76b-373acfcc6984",
   "metadata": {},
   "outputs": [
    {
     "name": "stdout",
     "output_type": "stream",
     "text": [
      "Accuracy of Decision Tree classifier on training set: 0.97\n"
     ]
    },
    {
     "data": {
      "text/plain": [
       "array([[3018,   22],\n",
       "       [  17,  886]])"
      ]
     },
     "execution_count": 34,
     "metadata": {},
     "output_type": "execute_result"
    }
   ],
   "source": [
    "print('Accuracy of Decision Tree classifier on training set: {:.2f}'\n",
    "      .format(clf.score(X_train, y_train)))\n",
    "\n",
    "confusion_matrix(y_train, y_pred)"
   ]
  }
 ],
 "metadata": {
  "kernelspec": {
   "display_name": "Python 3 (ipykernel)",
   "language": "python",
   "name": "python3"
  },
  "language_info": {
   "codemirror_mode": {
    "name": "ipython",
    "version": 3
   },
   "file_extension": ".py",
   "mimetype": "text/x-python",
   "name": "python",
   "nbconvert_exporter": "python",
   "pygments_lexer": "ipython3",
   "version": "3.9.13"
  }
 },
 "nbformat": 4,
 "nbformat_minor": 5
}
