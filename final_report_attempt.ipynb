{
 "cells": [
  {
   "cell_type": "markdown",
   "id": "2ebe6472-b696-4581-b2f8-93b932e80834",
   "metadata": {},
   "source": [
    "# Telco Data Analysis Project:\n",
    "    "
   ]
  },
  {
   "cell_type": "markdown",
   "id": "1507a4a3-4448-4e24-abc7-f17620549702",
   "metadata": {},
   "source": [
    "    Goals: \n",
    "    Our end goal is to construct a model to predict customer churn using classification techniques, and make predictions for a group of customers."
   ]
  },
  {
   "cell_type": "markdown",
   "id": "731be312-30dd-4ca4-a591-bb89c434dde0",
   "metadata": {
    "tags": []
   },
   "source": [
    "# Before we begin, we will do our imports "
   ]
  },
  {
   "cell_type": "code",
   "execution_count": 113,
   "id": "1f3a5ea4-f328-479d-8adb-16ec4d61271b",
   "metadata": {},
   "outputs": [],
   "source": [
    "# Import our files to aquire to aquire and prepare our data. \n",
    "import pandas as pd\n",
    "import numpy as np\n",
    "import matplotlib.pyplot as plt\n",
    "import seaborn as sns\n",
    "from scipy import stats\n",
    "import acquire as a \n",
    "import prepare as pre\n",
    "from sklearn.model_selection import train_test_split\n",
    "import sklearn.preprocessing\n",
    "from sklearn.model_selection import train_test_split\n",
    "from sklearn.tree import DecisionTreeClassifier, plot_tree\n",
    "from sklearn.metrics import classification_report\n",
    "from sklearn.metrics import confusion_matrix\n",
    "import statistics \n",
    "from scipy.stats import norm\n",
    "import warnings\n",
    "warnings.filterwarnings(\"ignore\")"
   ]
  },
  {
   "cell_type": "code",
   "execution_count": 35,
   "id": "cee68248-7ba5-4017-8123-187a5fd04b7d",
   "metadata": {},
   "outputs": [
    {
     "data": {
      "text/plain": [
       "{'tenure': 'The number of months the customer has been with the provider',\n",
       " 'monthly_charges': 'the total charges for the month',\n",
       " ' total_charges': 'the total charges to the customer',\n",
       " ' internet_service_type_fiber_optic': ' bool values to repersent if the customer does have fiber optic',\n",
       " 'churn': 'Bool value to repersent the customers who leave'}"
      ]
     },
     "execution_count": 35,
     "metadata": {},
     "output_type": "execute_result"
    }
   ],
   "source": [
    "pre.data_dict"
   ]
  },
  {
   "cell_type": "markdown",
   "id": "554dcb36-f423-40f6-89b5-e8996d2ffd12",
   "metadata": {
    "tags": []
   },
   "source": [
    "## First let's aquire our data."
   ]
  },
  {
   "cell_type": "markdown",
   "id": "6effeccf-1f2e-4026-af00-7b60e4267208",
   "metadata": {
    "tags": []
   },
   "source": [
    "# Now lets  Acquire and Prepare our data "
   ]
  },
  {
   "cell_type": "code",
   "execution_count": 115,
   "id": "096741f5-5e7a-411e-b6b7-81a9a41e7044",
   "metadata": {
    "tags": []
   },
   "outputs": [],
   "source": [
    "# we are calling on the acquire.py files to import/query \n",
    "# our data and cache the file to our pwd in a csv format. \n",
    "df = a.get_telco_data()"
   ]
  },
  {
   "cell_type": "markdown",
   "id": "014ab2db-1dc1-4553-b333-30c468bc6527",
   "metadata": {},
   "source": [
    "## next we prepare the data by calling a prepare.py file uses lines of code to:\n",
    "- search for and remove nulls\n",
    "- arranges the columns into proper order\n",
    "- standardizes the columns \n",
    "- drop irrevelent column \n",
    "- encoded categorical data \n",
    "- converts objects into non-object dtypes\n",
    "-  AND **** HOLD THE APPLAUSE**** \n",
    "- will also split your data into training, validate and test using: <br>\n",
    "`train, validate, test = p.split_data(df)`"
   ]
  },
  {
   "cell_type": "code",
   "execution_count": 116,
   "id": "7d4b3229-8be9-4276-afba-672eb3fb530c",
   "metadata": {},
   "outputs": [],
   "source": [
    "df_0 = a.get_telco_data()\n",
    "df = a.get_telco_data()\n",
    "df = pre.prepare_telco(df)\n",
    "df = df[pre.my_list] # this adjusts the df for only model columns for optimnal visual support\n",
    "df_0 = pd.DataFrame(df_0['customer_id'])\n",
    "concatante_list = [df_0, df]\n",
    "df = pd.concat(concatante_list, axis=1)\n",
    "train, test, validate = pre.split_data(df)"
   ]
  },
  {
   "cell_type": "code",
   "execution_count": 117,
   "id": "045634ac-340d-4448-acce-c146239add1d",
   "metadata": {},
   "outputs": [
    {
     "data": {
      "text/html": [
       "<div>\n",
       "<style scoped>\n",
       "    .dataframe tbody tr th:only-of-type {\n",
       "        vertical-align: middle;\n",
       "    }\n",
       "\n",
       "    .dataframe tbody tr th {\n",
       "        vertical-align: top;\n",
       "    }\n",
       "\n",
       "    .dataframe thead th {\n",
       "        text-align: right;\n",
       "    }\n",
       "</style>\n",
       "<table border=\"1\" class=\"dataframe\">\n",
       "  <thead>\n",
       "    <tr style=\"text-align: right;\">\n",
       "      <th></th>\n",
       "      <th>customer_id</th>\n",
       "      <th>tenure</th>\n",
       "      <th>monthly_charges</th>\n",
       "      <th>total_charges</th>\n",
       "      <th>internet_service_type_fiber_optic</th>\n",
       "      <th>churn</th>\n",
       "    </tr>\n",
       "  </thead>\n",
       "  <tbody>\n",
       "    <tr>\n",
       "      <th>3498</th>\n",
       "      <td>6629-CZTTH</td>\n",
       "      <td>1</td>\n",
       "      <td>55.70</td>\n",
       "      <td>55.70</td>\n",
       "      <td>1</td>\n",
       "      <td>1</td>\n",
       "    </tr>\n",
       "    <tr>\n",
       "      <th>2227</th>\n",
       "      <td>3186-BAXNB</td>\n",
       "      <td>1</td>\n",
       "      <td>91.70</td>\n",
       "      <td>91.70</td>\n",
       "      <td>0</td>\n",
       "      <td>0</td>\n",
       "    </tr>\n",
       "    <tr>\n",
       "      <th>6346</th>\n",
       "      <td>7929-DMBCV</td>\n",
       "      <td>20</td>\n",
       "      <td>81.00</td>\n",
       "      <td>1683.70</td>\n",
       "      <td>0</td>\n",
       "      <td>1</td>\n",
       "    </tr>\n",
       "    <tr>\n",
       "      <th>4905</th>\n",
       "      <td>3858-XHYJO</td>\n",
       "      <td>40</td>\n",
       "      <td>105.75</td>\n",
       "      <td>4228.55</td>\n",
       "      <td>0</td>\n",
       "      <td>0</td>\n",
       "    </tr>\n",
       "    <tr>\n",
       "      <th>166</th>\n",
       "      <td>0266-GMEAO</td>\n",
       "      <td>72</td>\n",
       "      <td>114.30</td>\n",
       "      <td>8058.55</td>\n",
       "      <td>0</td>\n",
       "      <td>0</td>\n",
       "    </tr>\n",
       "    <tr>\n",
       "      <th>...</th>\n",
       "      <td>...</td>\n",
       "      <td>...</td>\n",
       "      <td>...</td>\n",
       "      <td>...</td>\n",
       "      <td>...</td>\n",
       "      <td>...</td>\n",
       "    </tr>\n",
       "    <tr>\n",
       "      <th>5702</th>\n",
       "      <td>6016-NXBNJ</td>\n",
       "      <td>35</td>\n",
       "      <td>19.15</td>\n",
       "      <td>638.00</td>\n",
       "      <td>0</td>\n",
       "      <td>1</td>\n",
       "    </tr>\n",
       "    <tr>\n",
       "      <th>6763</th>\n",
       "      <td>9142-KZXOP</td>\n",
       "      <td>44</td>\n",
       "      <td>68.85</td>\n",
       "      <td>2958.95</td>\n",
       "      <td>0</td>\n",
       "      <td>0</td>\n",
       "    </tr>\n",
       "    <tr>\n",
       "      <th>3950</th>\n",
       "      <td>7853-GVUDZ</td>\n",
       "      <td>1</td>\n",
       "      <td>20.15</td>\n",
       "      <td>20.15</td>\n",
       "      <td>0</td>\n",
       "      <td>0</td>\n",
       "    </tr>\n",
       "    <tr>\n",
       "      <th>4269</th>\n",
       "      <td>8792-AOROI</td>\n",
       "      <td>8</td>\n",
       "      <td>65.50</td>\n",
       "      <td>564.35</td>\n",
       "      <td>1</td>\n",
       "      <td>1</td>\n",
       "    </tr>\n",
       "    <tr>\n",
       "      <th>951</th>\n",
       "      <td>1379-FRVEB</td>\n",
       "      <td>15</td>\n",
       "      <td>91.00</td>\n",
       "      <td>1430.05</td>\n",
       "      <td>0</td>\n",
       "      <td>0</td>\n",
       "    </tr>\n",
       "  </tbody>\n",
       "</table>\n",
       "<p>1478 rows × 6 columns</p>\n",
       "</div>"
      ],
      "text/plain": [
       "     customer_id  tenure  monthly_charges  total_charges  \\\n",
       "3498  6629-CZTTH       1            55.70          55.70   \n",
       "2227  3186-BAXNB       1            91.70          91.70   \n",
       "6346  7929-DMBCV      20            81.00        1683.70   \n",
       "4905  3858-XHYJO      40           105.75        4228.55   \n",
       "166   0266-GMEAO      72           114.30        8058.55   \n",
       "...          ...     ...              ...            ...   \n",
       "5702  6016-NXBNJ      35            19.15         638.00   \n",
       "6763  9142-KZXOP      44            68.85        2958.95   \n",
       "3950  7853-GVUDZ       1            20.15          20.15   \n",
       "4269  8792-AOROI       8            65.50         564.35   \n",
       "951   1379-FRVEB      15            91.00        1430.05   \n",
       "\n",
       "      internet_service_type_fiber_optic  churn  \n",
       "3498                                  1      1  \n",
       "2227                                  0      0  \n",
       "6346                                  0      1  \n",
       "4905                                  0      0  \n",
       "166                                   0      0  \n",
       "...                                 ...    ...  \n",
       "5702                                  0      1  \n",
       "6763                                  0      0  \n",
       "3950                                  0      0  \n",
       "4269                                  1      1  \n",
       "951                                   0      0  \n",
       "\n",
       "[1478 rows x 6 columns]"
      ]
     },
     "execution_count": 117,
     "metadata": {},
     "output_type": "execute_result"
    }
   ],
   "source": [
    "train"
   ]
  },
  {
   "cell_type": "markdown",
   "id": "5da41dee-8208-4184-afdd-81fcbcd16ff9",
   "metadata": {},
   "source": [
    "# Lets Explore "
   ]
  },
  {
   "cell_type": "markdown",
   "id": "4e0df090-b6e5-4550-8a07-2dfc6674264b",
   "metadata": {},
   "source": [
    "    First we are gonna see what our data looks like, and what a better way asking python to describe it to you. "
   ]
  },
  {
   "cell_type": "code",
   "execution_count": 118,
   "id": "a65489f8-3f75-42b1-ab88-1d87c3e2ea38",
   "metadata": {},
   "outputs": [
    {
     "data": {
      "text/html": [
       "<div>\n",
       "<style scoped>\n",
       "    .dataframe tbody tr th:only-of-type {\n",
       "        vertical-align: middle;\n",
       "    }\n",
       "\n",
       "    .dataframe tbody tr th {\n",
       "        vertical-align: top;\n",
       "    }\n",
       "\n",
       "    .dataframe thead th {\n",
       "        text-align: right;\n",
       "    }\n",
       "</style>\n",
       "<table border=\"1\" class=\"dataframe\">\n",
       "  <thead>\n",
       "    <tr style=\"text-align: right;\">\n",
       "      <th></th>\n",
       "      <th>customer_id</th>\n",
       "      <th>tenure</th>\n",
       "      <th>monthly_charges</th>\n",
       "      <th>total_charges</th>\n",
       "      <th>internet_service_type_fiber_optic</th>\n",
       "      <th>churn</th>\n",
       "    </tr>\n",
       "  </thead>\n",
       "  <tbody>\n",
       "    <tr>\n",
       "      <th>3498</th>\n",
       "      <td>6629-CZTTH</td>\n",
       "      <td>1</td>\n",
       "      <td>55.70</td>\n",
       "      <td>55.70</td>\n",
       "      <td>1</td>\n",
       "      <td>1</td>\n",
       "    </tr>\n",
       "    <tr>\n",
       "      <th>2227</th>\n",
       "      <td>3186-BAXNB</td>\n",
       "      <td>1</td>\n",
       "      <td>91.70</td>\n",
       "      <td>91.70</td>\n",
       "      <td>0</td>\n",
       "      <td>0</td>\n",
       "    </tr>\n",
       "    <tr>\n",
       "      <th>6346</th>\n",
       "      <td>7929-DMBCV</td>\n",
       "      <td>20</td>\n",
       "      <td>81.00</td>\n",
       "      <td>1683.70</td>\n",
       "      <td>0</td>\n",
       "      <td>1</td>\n",
       "    </tr>\n",
       "    <tr>\n",
       "      <th>4905</th>\n",
       "      <td>3858-XHYJO</td>\n",
       "      <td>40</td>\n",
       "      <td>105.75</td>\n",
       "      <td>4228.55</td>\n",
       "      <td>0</td>\n",
       "      <td>0</td>\n",
       "    </tr>\n",
       "    <tr>\n",
       "      <th>166</th>\n",
       "      <td>0266-GMEAO</td>\n",
       "      <td>72</td>\n",
       "      <td>114.30</td>\n",
       "      <td>8058.55</td>\n",
       "      <td>0</td>\n",
       "      <td>0</td>\n",
       "    </tr>\n",
       "  </tbody>\n",
       "</table>\n",
       "</div>"
      ],
      "text/plain": [
       "     customer_id  tenure  monthly_charges  total_charges  \\\n",
       "3498  6629-CZTTH       1            55.70          55.70   \n",
       "2227  3186-BAXNB       1            91.70          91.70   \n",
       "6346  7929-DMBCV      20            81.00        1683.70   \n",
       "4905  3858-XHYJO      40           105.75        4228.55   \n",
       "166   0266-GMEAO      72           114.30        8058.55   \n",
       "\n",
       "      internet_service_type_fiber_optic  churn  \n",
       "3498                                  1      1  \n",
       "2227                                  0      0  \n",
       "6346                                  0      1  \n",
       "4905                                  0      0  \n",
       "166                                   0      0  "
      ]
     },
     "execution_count": 118,
     "metadata": {},
     "output_type": "execute_result"
    }
   ],
   "source": [
    "train.head()"
   ]
  },
  {
   "cell_type": "code",
   "execution_count": 119,
   "id": "2c6dcf3b-65b6-48bb-a949-cb0323348700",
   "metadata": {},
   "outputs": [],
   "source": [
    "# Even though we worked so hard to add customer ID we are going to drop it, just bare with me, itll be back \n",
    "train_simple = train[pre.my_list] # remember this guy from the imports :)"
   ]
  },
  {
   "cell_type": "code",
   "execution_count": 120,
   "id": "7f723703-8801-4f74-8126-cd9970d5437d",
   "metadata": {},
   "outputs": [
    {
     "data": {
      "text/plain": [
       "(1478, 6)"
      ]
     },
     "execution_count": 120,
     "metadata": {},
     "output_type": "execute_result"
    }
   ],
   "source": [
    "train.shape"
   ]
  },
  {
   "cell_type": "markdown",
   "id": "2ca27f6e-ae59-4dcc-b77b-93c6c9f2d5fc",
   "metadata": {},
   "source": [
    "    Trust but verify that all our data contains no null values\n",
    "    "
   ]
  },
  {
   "cell_type": "code",
   "execution_count": 121,
   "id": "d51973e6-e4da-4d22-a11f-c52a1edc2c8f",
   "metadata": {},
   "outputs": [
    {
     "data": {
      "text/plain": [
       "customer_id                          0\n",
       "tenure                               0\n",
       "monthly_charges                      0\n",
       "total_charges                        0\n",
       "internet_service_type_fiber_optic    0\n",
       "churn                                0\n",
       "dtype: int64"
      ]
     },
     "execution_count": 121,
     "metadata": {},
     "output_type": "execute_result"
    }
   ],
   "source": [
    "train.isnull().sum()"
   ]
  },
  {
   "cell_type": "markdown",
   "id": "ebf30d94-f8a7-4e3d-932a-8e7bae5fea2b",
   "metadata": {},
   "source": [
    "    Here we can see above that the sum of all the null values which shows is zero across the board, woo! No nulls \n",
    "    "
   ]
  },
  {
   "cell_type": "markdown",
   "id": "06fac35b-8fc5-4bef-a1ce-84bf21ef925b",
   "metadata": {},
   "source": [
    "# Now lets start asking all these questions:\n",
    "# Is there a linear connection between monthly charges and churn rate \n",
    "# lets dive in and start acting like my ex-wife and start throwing accusations:\n",
    "# H$_0$: There is no linear connection between monthly charges and churn rate \n",
    "# H$_a$: There is a linear connection between monthly charges and churn rate \n",
    "# Lets see if there is"
   ]
  },
  {
   "cell_type": "code",
   "execution_count": 122,
   "id": "92a82b6d-5831-4954-8a34-be441dafc030",
   "metadata": {
    "tags": []
   },
   "outputs": [
    {
     "data": {
      "image/png": "[encoded data removed]",
      "text/plain": [
       "<Figure size 800x600 with 1 Axes>"
      ]
     },
     "metadata": {},
     "output_type": "display_data"
    }
   ],
   "source": [
    "monthly_charges_churn_yes = train[train.churn == 1].monthly_charges\n",
    "monthly_charges_churn_no = train[train.churn == 0].monthly_charges\n",
    "\n",
    "plt.figure(figsize=(8,6))\n",
    "plt.hist([monthly_charges_churn_yes, monthly_charges_churn_no], color=['red', 'blue'], label= ['Leaving', 'Staying'])\n",
    "plt.xlabel('monthly charges in usd')\n",
    "plt.ylabel('num of customers')\n",
    "plt.title('Staying vs Leaving Based on Monthly charges')\n",
    "plt.legend()\n",
    "plt.show()"
   ]
  },
  {
   "cell_type": "code",
   "execution_count": 123,
   "id": "a4c64637-dd05-4a01-b4f1-55a737105e20",
   "metadata": {},
   "outputs": [
    {
     "data": {
      "text/html": [
       "<div>\n",
       "<style scoped>\n",
       "    .dataframe tbody tr th:only-of-type {\n",
       "        vertical-align: middle;\n",
       "    }\n",
       "\n",
       "    .dataframe tbody tr th {\n",
       "        vertical-align: top;\n",
       "    }\n",
       "\n",
       "    .dataframe thead th {\n",
       "        text-align: right;\n",
       "    }\n",
       "</style>\n",
       "<table border=\"1\" class=\"dataframe\">\n",
       "  <thead>\n",
       "    <tr style=\"text-align: right;\">\n",
       "      <th></th>\n",
       "      <th>tenure</th>\n",
       "      <th>monthly_charges</th>\n",
       "      <th>total_charges</th>\n",
       "      <th>internet_service_type_fiber_optic</th>\n",
       "      <th>churn</th>\n",
       "    </tr>\n",
       "  </thead>\n",
       "  <tbody>\n",
       "    <tr>\n",
       "      <th>tenure</th>\n",
       "      <td>1.000000</td>\n",
       "      <td>0.320313</td>\n",
       "      <td>0.841710</td>\n",
       "      <td>-0.004053</td>\n",
       "      <td>-0.240669</td>\n",
       "    </tr>\n",
       "    <tr>\n",
       "      <th>monthly_charges</th>\n",
       "      <td>0.320313</td>\n",
       "      <td>1.000000</td>\n",
       "      <td>0.684801</td>\n",
       "      <td>-0.121846</td>\n",
       "      <td>-0.383120</td>\n",
       "    </tr>\n",
       "    <tr>\n",
       "      <th>total_charges</th>\n",
       "      <td>0.841710</td>\n",
       "      <td>0.684801</td>\n",
       "      <td>1.000000</td>\n",
       "      <td>-0.052004</td>\n",
       "      <td>-0.293178</td>\n",
       "    </tr>\n",
       "    <tr>\n",
       "      <th>internet_service_type_fiber_optic</th>\n",
       "      <td>-0.004053</td>\n",
       "      <td>-0.121846</td>\n",
       "      <td>-0.052004</td>\n",
       "      <td>1.000000</td>\n",
       "      <td>0.015849</td>\n",
       "    </tr>\n",
       "    <tr>\n",
       "      <th>churn</th>\n",
       "      <td>-0.240669</td>\n",
       "      <td>-0.383120</td>\n",
       "      <td>-0.293178</td>\n",
       "      <td>0.015849</td>\n",
       "      <td>1.000000</td>\n",
       "    </tr>\n",
       "  </tbody>\n",
       "</table>\n",
       "</div>"
      ],
      "text/plain": [
       "                                     tenure  monthly_charges  total_charges  \\\n",
       "tenure                             1.000000         0.320313       0.841710   \n",
       "monthly_charges                    0.320313         1.000000       0.684801   \n",
       "total_charges                      0.841710         0.684801       1.000000   \n",
       "internet_service_type_fiber_optic -0.004053        -0.121846      -0.052004   \n",
       "churn                             -0.240669        -0.383120      -0.293178   \n",
       "\n",
       "                                   internet_service_type_fiber_optic     churn  \n",
       "tenure                                                     -0.004053 -0.240669  \n",
       "monthly_charges                                            -0.121846 -0.383120  \n",
       "total_charges                                              -0.052004 -0.293178  \n",
       "internet_service_type_fiber_optic                           1.000000  0.015849  \n",
       "churn                                                       0.015849  1.000000  "
      ]
     },
     "execution_count": 123,
     "metadata": {},
     "output_type": "execute_result"
    }
   ],
   "source": [
    "# find r \n",
    "train.corr()"
   ]
  },
  {
   "cell_type": "code",
   "execution_count": 124,
   "id": "4caa4b56-3bb6-4b8f-b081-bed6f97e69d8",
   "metadata": {},
   "outputs": [
    {
     "data": {
      "text/html": [
       "<div>\n",
       "<style scoped>\n",
       "    .dataframe tbody tr th:only-of-type {\n",
       "        vertical-align: middle;\n",
       "    }\n",
       "\n",
       "    .dataframe tbody tr th {\n",
       "        vertical-align: top;\n",
       "    }\n",
       "\n",
       "    .dataframe thead th {\n",
       "        text-align: right;\n",
       "    }\n",
       "</style>\n",
       "<table border=\"1\" class=\"dataframe\">\n",
       "  <thead>\n",
       "    <tr style=\"text-align: right;\">\n",
       "      <th></th>\n",
       "      <th>tenure</th>\n",
       "      <th>monthly_charges</th>\n",
       "      <th>total_charges</th>\n",
       "      <th>internet_service_type_fiber_optic</th>\n",
       "      <th>churn</th>\n",
       "    </tr>\n",
       "  </thead>\n",
       "  <tbody>\n",
       "    <tr>\n",
       "      <th>tenure</th>\n",
       "      <td>1.000000</td>\n",
       "      <td>0.247900</td>\n",
       "      <td>0.826178</td>\n",
       "      <td>0.013274</td>\n",
       "      <td>-0.233852</td>\n",
       "    </tr>\n",
       "    <tr>\n",
       "      <th>monthly_charges</th>\n",
       "      <td>0.247900</td>\n",
       "      <td>1.000000</td>\n",
       "      <td>0.651174</td>\n",
       "      <td>-0.160189</td>\n",
       "      <td>-0.377437</td>\n",
       "    </tr>\n",
       "    <tr>\n",
       "      <th>total_charges</th>\n",
       "      <td>0.826178</td>\n",
       "      <td>0.651174</td>\n",
       "      <td>1.000000</td>\n",
       "      <td>-0.052469</td>\n",
       "      <td>-0.295758</td>\n",
       "    </tr>\n",
       "    <tr>\n",
       "      <th>internet_service_type_fiber_optic</th>\n",
       "      <td>0.013274</td>\n",
       "      <td>-0.160189</td>\n",
       "      <td>-0.052469</td>\n",
       "      <td>1.000000</td>\n",
       "      <td>0.041899</td>\n",
       "    </tr>\n",
       "    <tr>\n",
       "      <th>churn</th>\n",
       "      <td>-0.233852</td>\n",
       "      <td>-0.377437</td>\n",
       "      <td>-0.295758</td>\n",
       "      <td>0.041899</td>\n",
       "      <td>1.000000</td>\n",
       "    </tr>\n",
       "  </tbody>\n",
       "</table>\n",
       "</div>"
      ],
      "text/plain": [
       "                                     tenure  monthly_charges  total_charges  \\\n",
       "tenure                             1.000000         0.247900       0.826178   \n",
       "monthly_charges                    0.247900         1.000000       0.651174   \n",
       "total_charges                      0.826178         0.651174       1.000000   \n",
       "internet_service_type_fiber_optic  0.013274        -0.160189      -0.052469   \n",
       "churn                             -0.233852        -0.377437      -0.295758   \n",
       "\n",
       "                                   internet_service_type_fiber_optic     churn  \n",
       "tenure                                                      0.013274 -0.233852  \n",
       "monthly_charges                                            -0.160189 -0.377437  \n",
       "total_charges                                              -0.052469 -0.295758  \n",
       "internet_service_type_fiber_optic                           1.000000  0.041899  \n",
       "churn                                                       0.041899  1.000000  "
      ]
     },
     "execution_count": 124,
     "metadata": {},
     "output_type": "execute_result"
    }
   ],
   "source": [
    "df.corr()"
   ]
  },
  {
   "cell_type": "markdown",
   "id": "da2dc1f6-e065-4b31-bccb-f7f4a97aa349",
   "metadata": {},
   "source": [
    "# Is there a linear connection between internet_service_type_fiber_optic and churn rate \n",
    "# H$_0$: There is no linear connection between internet_service_type_fiber_optic and churn rate \n",
    "# H$_a$: There is a linear connection between internet_service_type_fiber_optic and churn rate \n",
    "# Lets see if there is"
   ]
  },
  {
   "cell_type": "code",
   "execution_count": 125,
   "id": "d9f7b27c-3e54-46f5-98e5-a70cddc765fc",
   "metadata": {},
   "outputs": [
    {
     "data": {
      "image/png": "[encoded data removed]",
      "text/plain": [
       "<Figure size 1000x600 with 1 Axes>"
      ]
     },
     "metadata": {},
     "output_type": "display_data"
    }
   ],
   "source": [
    "plt.figure(figsize=(10,6))\n",
    "ax = sns.countplot(x= 'internet_service_type_fiber_optic', hue='churn', data=train, palette=['g', 'y'] )\n",
    "ax.set_title(f'Effect of fiber optics internet service on customer churn')\n",
    "plt.show()"
   ]
  },
  {
   "cell_type": "code",
   "execution_count": 126,
   "id": "e35f77fd-bf0d-4202-b297-877f6b98694d",
   "metadata": {},
   "outputs": [
    {
     "data": {
      "text/html": [
       "<div>\n",
       "<style scoped>\n",
       "    .dataframe tbody tr th:only-of-type {\n",
       "        vertical-align: middle;\n",
       "    }\n",
       "\n",
       "    .dataframe tbody tr th {\n",
       "        vertical-align: top;\n",
       "    }\n",
       "\n",
       "    .dataframe thead th {\n",
       "        text-align: right;\n",
       "    }\n",
       "</style>\n",
       "<table border=\"1\" class=\"dataframe\">\n",
       "  <thead>\n",
       "    <tr style=\"text-align: right;\">\n",
       "      <th>churn</th>\n",
       "      <th>0</th>\n",
       "      <th>1</th>\n",
       "    </tr>\n",
       "    <tr>\n",
       "      <th>internet_service_type_fiber_optic</th>\n",
       "      <th></th>\n",
       "      <th></th>\n",
       "    </tr>\n",
       "  </thead>\n",
       "  <tbody>\n",
       "    <tr>\n",
       "      <th>0</th>\n",
       "      <td>749</td>\n",
       "      <td>216</td>\n",
       "    </tr>\n",
       "    <tr>\n",
       "      <th>1</th>\n",
       "      <td>391</td>\n",
       "      <td>122</td>\n",
       "    </tr>\n",
       "  </tbody>\n",
       "</table>\n",
       "</div>"
      ],
      "text/plain": [
       "churn                                0    1\n",
       "internet_service_type_fiber_optic          \n",
       "0                                  749  216\n",
       "1                                  391  122"
      ]
     },
     "execution_count": 126,
     "metadata": {},
     "output_type": "execute_result"
    }
   ],
   "source": [
    "observed = pd.crosstab(train.internet_service_type_fiber_optic, train.churn)\n",
    "observed\n",
    "# first lets see what our values are "
   ]
  },
  {
   "cell_type": "code",
   "execution_count": 127,
   "id": "ff9435f8-4a4b-4304-a1e3-0c432a5a7870",
   "metadata": {},
   "outputs": [],
   "source": [
    "chi2, p, degf, expected = stats.chi2_contingency(observed)"
   ]
  },
  {
   "cell_type": "code",
   "execution_count": 49,
   "id": "49db9c9f-3dbe-419d-ba5d-946829156bc0",
   "metadata": {},
   "outputs": [
    {
     "name": "stdout",
     "output_type": "stream",
     "text": [
      "Observed Values\n",
      "\n",
      "[[749 216]\n",
      " [391 122]]\n",
      "----------Expected Values\n",
      "\n",
      "[[744 220]\n",
      " [395 117]]\n",
      "----------\n",
      "chi^2 = 0.2962\n",
      "p     = 0.5863\n"
     ]
    }
   ],
   "source": [
    "# print 'Observed Values' followed by a new line\n",
    "print('Observed Values\\n')\n",
    "\n",
    "# print the values from the 'observed' dataframe\n",
    "print(observed.values)\n",
    "\n",
    "# print --- and then a new line, 'Expected Values', followed by another new line\n",
    "print('----------\\\n",
    "Expected Values\\n')\n",
    "\n",
    "print(expected.astype(int))\n",
    "\n",
    "print('----------')\n",
    "\n",
    "# print the chi2 value, formatted to a float with 4 digits. \n",
    "print(f'chi^2 = {chi2:.4f}') \n",
    "\n",
    "# print the p-value, formatted to a float with 4 digits. \n",
    "print(f'p     = {p:.4f}')"
   ]
  },
  {
   "cell_type": "markdown",
   "id": "2507abe2-74fc-447b-878a-65e7d6c4e126",
   "metadata": {},
   "source": [
    "### We can see by comparing the observed values are rather close to the expected values. We can confirm that, with the data available, there does not appear to be a significant relationship between internet and churn rate. Thus alows us to assume that the null hypothesis is correct until we have enough evidence to suggest otherwise, or failed to reject H$_0$\n",
    "\n"
   ]
  },
  {
   "cell_type": "markdown",
   "id": "81d8d8ac-b697-4830-a421-cd0f66daff3e",
   "metadata": {},
   "source": [
    "# Is there a linear connection between tenure and churn rate \n",
    "# H$_0$: There is no linear connection between tenure and churn rate \n",
    "# H$_a$: There is a linear connection between tenure and churn rate "
   ]
  },
  {
   "cell_type": "code",
   "execution_count": 128,
   "id": "8a730a64-7ec1-469f-bb3f-233e62600e4c",
   "metadata": {},
   "outputs": [
    {
     "data": {
      "image/png": "[encoded data removed]",
      "text/plain": [
       "<Figure size 1000x600 with 1 Axes>"
      ]
     },
     "metadata": {},
     "output_type": "display_data"
    }
   ],
   "source": [
    "tenure_churn_yes = train[train.churn == 1].tenure\n",
    "tenure_churn_no = train[train.churn == 0].tenure\n",
    "\n",
    "plt.figure(figsize=(10,6))\n",
    "plt.hist([tenure_churn_yes, tenure_churn_no], color=['Red', 'yellow'], label= ['Leaving', 'Staying'])\n",
    "plt.xlabel('tenure in months')\n",
    "plt.ylabel('num of customers')\n",
    "plt.title('Staying vs Leaving Based on Tenure')\n",
    "plt.legend()\n",
    "plt.show()"
   ]
  },
  {
   "cell_type": "code",
   "execution_count": null,
   "id": "b960b5e0-6e93-4b92-a502-15d2531e2078",
   "metadata": {},
   "outputs": [],
   "source": []
  },
  {
   "cell_type": "markdown",
   "id": "e174adda-8d9b-4abb-8c83-28c896ea5ab5",
   "metadata": {},
   "source": [
    "# Is there a linear connection between monthly charges and churn rate \n",
    "# H$_0$: There is no linear connection between monthly charges and churn rate \n",
    "# H$_a$: There is a linear connection between monthly charges and churn rate "
   ]
  },
  {
   "cell_type": "code",
   "execution_count": 129,
   "id": "0b8c35a7-7caf-4821-ac3f-0b08901db790",
   "metadata": {},
   "outputs": [
    {
     "data": {
      "image/png": "[encoded data removed]",
      "text/plain": [
       "<Figure size 800x600 with 1 Axes>"
      ]
     },
     "metadata": {},
     "output_type": "display_data"
    }
   ],
   "source": [
    "total_charges_churn_yes = train[train.churn == 1].total_charges\n",
    "total_charges_churn_no = train[train.churn == 0].total_charges\n",
    "\n",
    "plt.figure(figsize=(8,6))\n",
    "plt.hist([total_charges_churn_yes, total_charges_churn_no], color=['green', 'orange'], label= ['Leaving', 'Staying'])\n",
    "plt.xlabel('total charges in usd')\n",
    "plt.ylabel('num of customers')\n",
    "plt.title('Staying vs Leaving Based on Monthly charges')\n",
    "plt.legend()\n",
    "plt.show()"
   ]
  },
  {
   "cell_type": "markdown",
   "id": "fc975c2f-0203-4cab-975b-28c14b3179d7",
   "metadata": {},
   "source": [
    "# Finally Lets model"
   ]
  },
  {
   "cell_type": "code",
   "execution_count": 130,
   "id": "6b7732fd-db67-45f8-bbf9-572377119702",
   "metadata": {},
   "outputs": [],
   "source": [
    "# Lets define our train data\n",
    "\n",
    "X_train = train.drop(columns=['churn','customer_id'])\n",
    "y_train = train.churn\n",
    "\n",
    "\n",
    "\n",
    "X_validate = validate.drop(columns=['churn','customer_id'])\n",
    "y_validate = validate.churn\n",
    "\n",
    "\n",
    "\n",
    "\n",
    "\n",
    "X_test = test.drop(columns=['churn','customer_id'])\n",
    "y_test = test.churn\n",
    "\n",
    "\n",
    "\n"
   ]
  },
  {
   "cell_type": "code",
   "execution_count": 131,
   "id": "fb206c8d-90e7-4e1a-9741-0e36908a1504",
   "metadata": {},
   "outputs": [
    {
     "name": "stdout",
     "output_type": "stream",
     "text": [
      "Accuracy of Decision Tree classifier on training set: 0.82\n",
      "Accuracy of Decision Tree classifier on validate set: 0.78\n",
      "Accuracy of Decision Tree classifier on test set: 0.79\n"
     ]
    },
    {
     "data": {
      "text/plain": [
       "array([[0.60248447, 0.39751553],\n",
       "       [0.83870968, 0.16129032],\n",
       "       [0.92657343, 0.07342657],\n",
       "       ...,\n",
       "       [0.33009709, 0.66990291],\n",
       "       [0.85      , 0.15      ],\n",
       "       [0.83870968, 0.16129032]])"
      ]
     },
     "execution_count": 131,
     "metadata": {},
     "output_type": "execute_result"
    }
   ],
   "source": [
    "# as a brilliant instructor once said \n",
    "# make the thing\n",
    "clf = DecisionTreeClassifier(max_depth= 5)\n",
    "# max depth show best scores at 7 \n",
    "# fit the thing\n",
    "clf = clf.fit(X_train,y_train)\n",
    "# use the thing\n",
    "y_pred = clf.predict(X_train)\n",
    "\n",
    "print('Accuracy of Decision Tree classifier on training set: {:.2f}'\n",
    ".format(clf.score(X_train, y_train)))\n",
    "print('Accuracy of Decision Tree classifier on validate set: {:.2f}'\n",
    ".format(clf.score(X_validate, y_validate)))\n",
    "print('Accuracy of Decision Tree classifier on test set: {:.2f}'\n",
    ".format(clf.score(X_test, y_test)))\n",
    "\n",
    "# make the thing\n",
    "clf = DecisionTreeClassifier(max_depth =5)\n",
    "# fit the thing\n",
    "clf = clf.fit(X_train,y_train)\n",
    "# use the thing\n",
    "y_pred = clf.predict(X_train)\n",
    "\n",
    "(train['churn'] == y_pred).mean()\n",
    "\n",
    "y_pred_proba = clf.predict_proba(X_train)\n",
    "\n",
    "\n",
    "predictions_file = []\n",
    "y_pred_proba"
   ]
  },
  {
   "cell_type": "code",
   "execution_count": 132,
   "id": "7f1a83c5-dbe7-4bbe-9b6c-d42be409fb6e",
   "metadata": {},
   "outputs": [
    {
     "data": {
      "text/html": [
       "<div>\n",
       "<style scoped>\n",
       "    .dataframe tbody tr th:only-of-type {\n",
       "        vertical-align: middle;\n",
       "    }\n",
       "\n",
       "    .dataframe tbody tr th {\n",
       "        vertical-align: top;\n",
       "    }\n",
       "\n",
       "    .dataframe thead th {\n",
       "        text-align: right;\n",
       "    }\n",
       "</style>\n",
       "<table border=\"1\" class=\"dataframe\">\n",
       "  <thead>\n",
       "    <tr style=\"text-align: right;\">\n",
       "      <th></th>\n",
       "      <th>customer_id</th>\n",
       "      <th>0</th>\n",
       "    </tr>\n",
       "  </thead>\n",
       "  <tbody>\n",
       "    <tr>\n",
       "      <th>3498</th>\n",
       "      <td>6629-CZTTH</td>\n",
       "      <td>NaN</td>\n",
       "    </tr>\n",
       "    <tr>\n",
       "      <th>2227</th>\n",
       "      <td>3186-BAXNB</td>\n",
       "      <td>NaN</td>\n",
       "    </tr>\n",
       "    <tr>\n",
       "      <th>6346</th>\n",
       "      <td>7929-DMBCV</td>\n",
       "      <td>NaN</td>\n",
       "    </tr>\n",
       "    <tr>\n",
       "      <th>4905</th>\n",
       "      <td>3858-XHYJO</td>\n",
       "      <td>NaN</td>\n",
       "    </tr>\n",
       "    <tr>\n",
       "      <th>166</th>\n",
       "      <td>0266-GMEAO</td>\n",
       "      <td>NaN</td>\n",
       "    </tr>\n",
       "    <tr>\n",
       "      <th>...</th>\n",
       "      <td>...</td>\n",
       "      <td>...</td>\n",
       "    </tr>\n",
       "    <tr>\n",
       "      <th>1473</th>\n",
       "      <td>NaN</td>\n",
       "      <td>0.0</td>\n",
       "    </tr>\n",
       "    <tr>\n",
       "      <th>1474</th>\n",
       "      <td>NaN</td>\n",
       "      <td>0.0</td>\n",
       "    </tr>\n",
       "    <tr>\n",
       "      <th>1475</th>\n",
       "      <td>NaN</td>\n",
       "      <td>1.0</td>\n",
       "    </tr>\n",
       "    <tr>\n",
       "      <th>1476</th>\n",
       "      <td>NaN</td>\n",
       "      <td>0.0</td>\n",
       "    </tr>\n",
       "    <tr>\n",
       "      <th>1477</th>\n",
       "      <td>NaN</td>\n",
       "      <td>0.0</td>\n",
       "    </tr>\n",
       "  </tbody>\n",
       "</table>\n",
       "<p>2956 rows × 2 columns</p>\n",
       "</div>"
      ],
      "text/plain": [
       "     customer_id    0\n",
       "3498  6629-CZTTH  NaN\n",
       "2227  3186-BAXNB  NaN\n",
       "6346  7929-DMBCV  NaN\n",
       "4905  3858-XHYJO  NaN\n",
       "166   0266-GMEAO  NaN\n",
       "...          ...  ...\n",
       "1473         NaN  0.0\n",
       "1474         NaN  0.0\n",
       "1475         NaN  1.0\n",
       "1476         NaN  0.0\n",
       "1477         NaN  0.0\n",
       "\n",
       "[2956 rows x 2 columns]"
      ]
     },
     "execution_count": 132,
     "metadata": {},
     "output_type": "execute_result"
    }
   ],
   "source": [
    "# Lets get it a csv out\n",
    "prediction_csv = train[['customer_id']]\n",
    "my_concat = [ prediction_csv, pd.Series(y_pred)]\n",
    "test_1 = pd.concat(my_concat, axis=0)\n",
    "test_1"
   ]
  },
  {
   "cell_type": "markdown",
   "id": "344d0449-148e-49be-a45f-19f73c65d53e",
   "metadata": {
    "jp-MarkdownHeadingCollapsed": true,
    "tags": []
   },
   "source": [
    "# Lets Evaluate how the model did"
   ]
  },
  {
   "cell_type": "code",
   "execution_count": 10,
   "id": "1a601cc7-16a2-459a-80bb-cbbb5f9ab9ad",
   "metadata": {},
   "outputs": [
    {
     "data": {
      "text/plain": [
       "array([[1090,   50],\n",
       "       [ 222,  116]])"
      ]
     },
     "execution_count": 10,
     "metadata": {},
     "output_type": "execute_result"
    }
   ],
   "source": [
    "confusion_matrix(y_train, y_pred)"
   ]
  },
  {
   "cell_type": "code",
   "execution_count": 72,
   "id": "f0b0e5a5-1382-4595-b856-6f87c4afdec2",
   "metadata": {},
   "outputs": [],
   "source": [
    "y_pred = clf.predict(X_train)"
   ]
  },
  {
   "cell_type": "code",
   "execution_count": 78,
   "id": "851b3efb-b971-4d09-9e93-24651c676e5b",
   "metadata": {},
   "outputs": [
    {
     "ename": "ValueError",
     "evalue": "Found input variables with inconsistent numbers of samples: [4931, 1478]",
     "output_type": "error",
     "traceback": [
      "\u001b[0;31m---------------------------------------------------------------------------\u001b[0m",
      "\u001b[0;31mValueError\u001b[0m                                Traceback (most recent call last)",
      "\u001b[0;32m/var/folders/30/cccszyfj19z85nmzb4bvgg5r0000gq/T/ipykernel_91348/3316462527.py\u001b[0m in \u001b[0;36m<module>\u001b[0;34m\u001b[0m\n\u001b[0;32m----> 1\u001b[0;31m \u001b[0mprint\u001b[0m\u001b[0;34m(\u001b[0m\u001b[0mclassification_report\u001b[0m\u001b[0;34m(\u001b[0m\u001b[0my_validate\u001b[0m\u001b[0;34m,\u001b[0m \u001b[0my_pred\u001b[0m\u001b[0;34m)\u001b[0m\u001b[0;34m)\u001b[0m\u001b[0;34m\u001b[0m\u001b[0;34m\u001b[0m\u001b[0m\n\u001b[0m",
      "\u001b[0;32m~/opt/anaconda3/lib/python3.9/site-packages/sklearn/metrics/_classification.py\u001b[0m in \u001b[0;36mclassification_report\u001b[0;34m(y_true, y_pred, labels, target_names, sample_weight, digits, output_dict, zero_division)\u001b[0m\n\u001b[1;32m   2108\u001b[0m     \"\"\"\n\u001b[1;32m   2109\u001b[0m \u001b[0;34m\u001b[0m\u001b[0m\n\u001b[0;32m-> 2110\u001b[0;31m     \u001b[0my_type\u001b[0m\u001b[0;34m,\u001b[0m \u001b[0my_true\u001b[0m\u001b[0;34m,\u001b[0m \u001b[0my_pred\u001b[0m \u001b[0;34m=\u001b[0m \u001b[0m_check_targets\u001b[0m\u001b[0;34m(\u001b[0m\u001b[0my_true\u001b[0m\u001b[0;34m,\u001b[0m \u001b[0my_pred\u001b[0m\u001b[0;34m)\u001b[0m\u001b[0;34m\u001b[0m\u001b[0;34m\u001b[0m\u001b[0m\n\u001b[0m\u001b[1;32m   2111\u001b[0m \u001b[0;34m\u001b[0m\u001b[0m\n\u001b[1;32m   2112\u001b[0m     \u001b[0;32mif\u001b[0m \u001b[0mlabels\u001b[0m \u001b[0;32mis\u001b[0m \u001b[0;32mNone\u001b[0m\u001b[0;34m:\u001b[0m\u001b[0;34m\u001b[0m\u001b[0;34m\u001b[0m\u001b[0m\n",
      "\u001b[0;32m~/opt/anaconda3/lib/python3.9/site-packages/sklearn/metrics/_classification.py\u001b[0m in \u001b[0;36m_check_targets\u001b[0;34m(y_true, y_pred)\u001b[0m\n\u001b[1;32m     82\u001b[0m     \u001b[0my_pred\u001b[0m \u001b[0;34m:\u001b[0m \u001b[0marray\u001b[0m \u001b[0;32mor\u001b[0m \u001b[0mindicator\u001b[0m \u001b[0mmatrix\u001b[0m\u001b[0;34m\u001b[0m\u001b[0;34m\u001b[0m\u001b[0m\n\u001b[1;32m     83\u001b[0m     \"\"\"\n\u001b[0;32m---> 84\u001b[0;31m     \u001b[0mcheck_consistent_length\u001b[0m\u001b[0;34m(\u001b[0m\u001b[0my_true\u001b[0m\u001b[0;34m,\u001b[0m \u001b[0my_pred\u001b[0m\u001b[0;34m)\u001b[0m\u001b[0;34m\u001b[0m\u001b[0;34m\u001b[0m\u001b[0m\n\u001b[0m\u001b[1;32m     85\u001b[0m     \u001b[0mtype_true\u001b[0m \u001b[0;34m=\u001b[0m \u001b[0mtype_of_target\u001b[0m\u001b[0;34m(\u001b[0m\u001b[0my_true\u001b[0m\u001b[0;34m)\u001b[0m\u001b[0;34m\u001b[0m\u001b[0;34m\u001b[0m\u001b[0m\n\u001b[1;32m     86\u001b[0m     \u001b[0mtype_pred\u001b[0m \u001b[0;34m=\u001b[0m \u001b[0mtype_of_target\u001b[0m\u001b[0;34m(\u001b[0m\u001b[0my_pred\u001b[0m\u001b[0;34m)\u001b[0m\u001b[0;34m\u001b[0m\u001b[0;34m\u001b[0m\u001b[0m\n",
      "\u001b[0;32m~/opt/anaconda3/lib/python3.9/site-packages/sklearn/utils/validation.py\u001b[0m in \u001b[0;36mcheck_consistent_length\u001b[0;34m(*arrays)\u001b[0m\n\u001b[1;32m    330\u001b[0m     \u001b[0muniques\u001b[0m \u001b[0;34m=\u001b[0m \u001b[0mnp\u001b[0m\u001b[0;34m.\u001b[0m\u001b[0munique\u001b[0m\u001b[0;34m(\u001b[0m\u001b[0mlengths\u001b[0m\u001b[0;34m)\u001b[0m\u001b[0;34m\u001b[0m\u001b[0;34m\u001b[0m\u001b[0m\n\u001b[1;32m    331\u001b[0m     \u001b[0;32mif\u001b[0m \u001b[0mlen\u001b[0m\u001b[0;34m(\u001b[0m\u001b[0muniques\u001b[0m\u001b[0;34m)\u001b[0m \u001b[0;34m>\u001b[0m \u001b[0;36m1\u001b[0m\u001b[0;34m:\u001b[0m\u001b[0;34m\u001b[0m\u001b[0;34m\u001b[0m\u001b[0m\n\u001b[0;32m--> 332\u001b[0;31m         raise ValueError(\n\u001b[0m\u001b[1;32m    333\u001b[0m             \u001b[0;34m\"Found input variables with inconsistent numbers of samples: %r\"\u001b[0m\u001b[0;34m\u001b[0m\u001b[0;34m\u001b[0m\u001b[0m\n\u001b[1;32m    334\u001b[0m             \u001b[0;34m%\u001b[0m \u001b[0;34m[\u001b[0m\u001b[0mint\u001b[0m\u001b[0;34m(\u001b[0m\u001b[0ml\u001b[0m\u001b[0;34m)\u001b[0m \u001b[0;32mfor\u001b[0m \u001b[0ml\u001b[0m \u001b[0;32min\u001b[0m \u001b[0mlengths\u001b[0m\u001b[0;34m]\u001b[0m\u001b[0;34m\u001b[0m\u001b[0;34m\u001b[0m\u001b[0m\n",
      "\u001b[0;31mValueError\u001b[0m: Found input variables with inconsistent numbers of samples: [4931, 1478]"
     ]
    }
   ],
   "source": [
    "print(classification_report(y_validate, y_pred))"
   ]
  },
  {
   "cell_type": "markdown",
   "id": "e3c12c22-ce2b-4d36-bfed-585d4eb8bf8c",
   "metadata": {
    "jp-MarkdownHeadingCollapsed": true,
    "tags": []
   },
   "source": [
    "# what about the baseline model ? ( yeah? what about it?)\n"
   ]
  },
  {
   "cell_type": "code",
   "execution_count": null,
   "id": "f9622f8d-d9ff-44e4-aafd-ff3d99fa4496",
   "metadata": {},
   "outputs": [],
   "source": [
    "from sklearn.tree import DecisionTreeClassifier, plot_tree\n",
    "from sklearn.metrics import classification_report\n",
    "from sklearn.metrics import confusion_matrix\n",
    "# just a reminder of what were working with \n",
    "X_train = train.drop(columns=['baseline','customer_id'])\n",
    "y_train = train.baseline\n",
    "\n",
    "X_validate = validate.drop(columns=['baseline','customer_id'])\n",
    "y_validate = validate.baseline\n",
    "\n",
    "X_test = test.drop(columns=['baseline','customer_id'])\n",
    "y_test = test.baseline"
   ]
  },
  {
   "cell_type": "code",
   "execution_count": null,
   "id": "229b9745-f9e1-4b97-87eb-777ce146fa2b",
   "metadata": {},
   "outputs": [],
   "source": [
    "# make the thing\n",
    "clf = DecisionTreeClassifier(max_depth =5)\n",
    "# fit the thing\n",
    "clf = clf.fit(X_train,y_train)\n",
    "# use the thing\n",
    "y_pred = clf.predict(X_train)\n",
    "\n",
    "\n",
    "y_pred_proba = clf.predict_proba(X_train)\n",
    "\n",
    "confusion_matrix(y_train, y_pred)"
   ]
  },
  {
   "cell_type": "markdown",
   "id": "78c25869-2f12-4af2-a7ee-92b81659e012",
   "metadata": {},
   "source": [
    "# Summary"
   ]
  },
  {
   "cell_type": "markdown",
   "id": "a0c44cf5-1dbc-4c4a-9584-f8369ae94a81",
   "metadata": {},
   "source": [
    "    So, where does that leave us"
   ]
  }
 ],
 "metadata": {
  "kernelspec": {
   "display_name": "Python 3 (ipykernel)",
   "language": "python",
   "name": "python3"
  },
  "language_info": {
   "codemirror_mode": {
    "name": "ipython",
    "version": 3
   },
   "file_extension": ".py",
   "mimetype": "text/x-python",
   "name": "python",
   "nbconvert_exporter": "python",
   "pygments_lexer": "ipython3",
   "version": "3.9.13"
  },
  "toc-autonumbering": true,
  "toc-showmarkdowntxt": true
 },
 "nbformat": 4,
 "nbformat_minor": 5
}
