{
 "cells": [
  {
   "cell_type": "code",
   "execution_count": 105,
   "id": "2b298777-bbce-4998-8392-5f27f4054ffb",
   "metadata": {},
   "outputs": [
    {
     "name": "stdout",
     "output_type": "stream",
     "text": [
      "1064\n",
      "2879\n"
     ]
    }
   ],
   "source": [
    "# Lets get into modeling. First we are going to do our standard imports to acquire, prepare, and split our data \n",
    "\n",
    "# First im going to acquire my data :\n",
    "import wrangle as w\n",
    "import explore as e\n",
    "import numpy as np\n",
    "import pandas as pd \n",
    "import matplotlib.pyplot as plt\n",
    "import seaborn as sns \n",
    "\n",
    "# imports for warnings \n",
    "import warnings\n",
    "warnings.filterwarnings(\"ignore\")\n",
    "\n",
    "# import our models we want to test \n",
    "from sklearn.model_selection import train_test_split\n",
    "from sklearn.tree import DecisionTreeClassifier, plot_tree\n",
    "from sklearn.metrics import classification_report\n",
    "from sklearn.metrics import confusion_matrix\n",
    "from sklearn.neighbors import KNeighborsClassifier\n",
    "from sklearn.linear_model import LogisticRegression\n",
    "from sklearn.metrics import classification_report\n",
    "from sklearn.ensemble import RandomForestClassifier\n",
    "# Here i want to acquire my data and store it in a variable named df (short for dataframe)\n",
    "df = w.prepare()\n",
    "train, validate, test = w.split(w.prepare())\n",
    "X_train, y_train, X_validate, y_validate, X_test, y_test = e.X_and_y_split(train, validate, test)\n",
    "#Here we are checking which has more churned or not churn to set up our baseline\n",
    "\n",
    "\n",
    "print((train['churn'] == 1).sum())\n",
    "print((train['churn'] == 0).sum())"
   ]
  },
  {
   "cell_type": "markdown",
   "id": "1493739a-f02e-45e8-91d3-c86d18e17bcb",
   "metadata": {},
   "source": [
    "## Do we have imported our data. We have split it in to train, validate, and test.  Now I want to set some baseline metrics"
   ]
  },
  {
   "cell_type": "markdown",
   "id": "bf829df0-524e-4079-9e21-f6247b0ea8fa",
   "metadata": {
    "tags": []
   },
   "source": [
    "# Baseline Model"
   ]
  },
  {
   "cell_type": "code",
   "execution_count": 3,
   "id": "d2f01ea6-370a-4f27-92e0-a1d75f0d4130",
   "metadata": {},
   "outputs": [],
   "source": [
    "# First we set a new dataframe specifically to the X train values \n",
    "base_line_df = X_train.copy()\n",
    "base_line_df['prediction'] = 0 "
   ]
  },
  {
   "cell_type": "code",
   "execution_count": 4,
   "id": "896fdb37-bee5-451b-8073-f38454252ecb",
   "metadata": {},
   "outputs": [],
   "source": [
    "# For the purpose of our confusion matrixs we are defining the following variables:\n",
    "y_true = y_train\n",
    "y_predicted = base_line_df['prediction']"
   ]
  },
  {
   "cell_type": "code",
   "execution_count": 5,
   "id": "f7da564f-2549-48ee-b242-265522a630a4",
   "metadata": {},
   "outputs": [
    {
     "data": {
      "text/plain": [
       "array([[2879,    0],\n",
       "       [1064,    0]])"
      ]
     },
     "execution_count": 5,
     "metadata": {},
     "output_type": "execute_result"
    }
   ],
   "source": [
    "cm = confusion_matrix(y_true, y_predicted)\n",
    "\n",
    "cm"
   ]
  },
  {
   "cell_type": "code",
   "execution_count": 6,
   "id": "c87b704d-9850-444a-905a-5f3066ba6bf0",
   "metadata": {},
   "outputs": [],
   "source": [
    "base_line_df['actual'] = y_train"
   ]
  },
  {
   "cell_type": "code",
   "execution_count": 8,
   "id": "d1853ceb-9571-44e6-a499-0bbafa495090",
   "metadata": {},
   "outputs": [],
   "source": [
    "baseline_accuracy = (base_line_df.prediction == base_line_df.actual).mean()"
   ]
  },
  {
   "cell_type": "code",
   "execution_count": 9,
   "id": "70d1bef4-470c-4459-9c70-13826b634daf",
   "metadata": {},
   "outputs": [
    {
     "name": "stdout",
     "output_type": "stream",
     "text": [
      "baseline accuracy: 73.02%\n"
     ]
    }
   ],
   "source": [
    "print(f'baseline accuracy: {baseline_accuracy:.2%}')"
   ]
  },
  {
   "cell_type": "code",
   "execution_count": 79,
   "id": "00754018-c8dc-447f-aa70-96cf66881dd9",
   "metadata": {},
   "outputs": [
    {
     "name": "stdout",
     "output_type": "stream",
     "text": [
      "              precision    recall  f1-score   support\n",
      "\n",
      "           0       0.73      1.00      0.84      2879\n",
      "           1       0.00      0.00      0.00      1064\n",
      "\n",
      "    accuracy                           0.73      3943\n",
      "   macro avg       0.37      0.50      0.42      3943\n",
      "weighted avg       0.53      0.73      0.62      3943\n",
      "\n"
     ]
    }
   ],
   "source": [
    "y_true_baseline = y_train\n",
    "y_pred_baseline = base_line_df.prediction\n",
    "print(classification_report(y_true_baseline, y_pred_baseline))"
   ]
  },
  {
   "cell_type": "markdown",
   "id": "b5b52e79-e3f9-4b16-ac53-5aa9d6e447b4",
   "metadata": {
    "tags": []
   },
   "source": [
    "# Desicion Tree Model "
   ]
  },
  {
   "cell_type": "code",
   "execution_count": 10,
   "id": "6891d7e1-c59b-42e9-83ee-6142b942bb45",
   "metadata": {},
   "outputs": [],
   "source": [
    "clf = DecisionTreeClassifier(max_depth=10, random_state=123)\n",
    "clf = clf.fit(X_train,y_train)\n",
    "y_pred = clf.predict(X_train)\n",
    "decision_tree_model = X_train.copy()\n",
    "decision_tree_model['predicted'] = y_pred\n",
    "decision_tree_model['actual'] = y_train\n",
    "decision_tree_model['baseline_pred'] = 0"
   ]
  },
  {
   "cell_type": "code",
   "execution_count": null,
   "id": "601f7b98-3456-41ff-9eaa-58bb50f6ebda",
   "metadata": {},
   "outputs": [
    {
     "data": {
      "text/html": [
       "<div>\n",
       "<style scoped>\n",
       "    .dataframe tbody tr th:only-of-type {\n",
       "        vertical-align: middle;\n",
       "    }\n",
       "\n",
       "    .dataframe tbody tr th {\n",
       "        vertical-align: top;\n",
       "    }\n",
       "\n",
       "    .dataframe thead th {\n",
       "        text-align: right;\n",
       "    }\n",
       "</style>\n",
       "<table border=\"1\" class=\"dataframe\">\n",
       "  <thead>\n",
       "    <tr style=\"text-align: right;\">\n",
       "      <th></th>\n",
       "      <th>contract_type_one_year</th>\n",
       "      <th>contract_type_two_year</th>\n",
       "      <th>monthly_charges</th>\n",
       "      <th>total_charges</th>\n",
       "      <th>predicted</th>\n",
       "      <th>actual</th>\n",
       "    </tr>\n",
       "  </thead>\n",
       "  <tbody>\n",
       "    <tr>\n",
       "      <th>4604</th>\n",
       "      <td>0</td>\n",
       "      <td>0</td>\n",
       "      <td>88.65</td>\n",
       "      <td>2683.20</td>\n",
       "      <td>0</td>\n",
       "      <td>0</td>\n",
       "    </tr>\n",
       "    <tr>\n",
       "      <th>5566</th>\n",
       "      <td>0</td>\n",
       "      <td>0</td>\n",
       "      <td>52.10</td>\n",
       "      <td>670.65</td>\n",
       "      <td>0</td>\n",
       "      <td>0</td>\n",
       "    </tr>\n",
       "    <tr>\n",
       "      <th>6204</th>\n",
       "      <td>1</td>\n",
       "      <td>0</td>\n",
       "      <td>65.40</td>\n",
       "      <td>2498.40</td>\n",
       "      <td>0</td>\n",
       "      <td>1</td>\n",
       "    </tr>\n",
       "    <tr>\n",
       "      <th>5837</th>\n",
       "      <td>0</td>\n",
       "      <td>0</td>\n",
       "      <td>87.25</td>\n",
       "      <td>3941.70</td>\n",
       "      <td>0</td>\n",
       "      <td>1</td>\n",
       "    </tr>\n",
       "    <tr>\n",
       "      <th>1276</th>\n",
       "      <td>0</td>\n",
       "      <td>1</td>\n",
       "      <td>90.60</td>\n",
       "      <td>5817.45</td>\n",
       "      <td>0</td>\n",
       "      <td>0</td>\n",
       "    </tr>\n",
       "  </tbody>\n",
       "</table>\n",
       "</div>"
      ],
      "text/plain": [
       "      contract_type_one_year  contract_type_two_year  monthly_charges  \\\n",
       "4604                       0                       0            88.65   \n",
       "5566                       0                       0            52.10   \n",
       "6204                       1                       0            65.40   \n",
       "5837                       0                       0            87.25   \n",
       "1276                       0                       1            90.60   \n",
       "\n",
       "      total_charges  predicted  actual  \n",
       "4604        2683.20          0       0  \n",
       "5566         670.65          0       0  \n",
       "6204        2498.40          0       1  \n",
       "5837        3941.70          0       1  \n",
       "1276        5817.45          0       0  "
      ]
     },
     "execution_count": 16,
     "metadata": {},
     "output_type": "execute_result"
    }
   ],
   "source": [
    "decision_tree_model.head()"
   ]
  },
  {
   "cell_type": "code",
   "execution_count": null,
   "id": "f16ca5c9-aa23-4be5-8495-ac3601a92ac1",
   "metadata": {},
   "outputs": [
    {
     "data": {
      "text/plain": [
       "0    2917\n",
       "1    1026\n",
       "Name: predicted, dtype: int64"
      ]
     },
     "execution_count": 78,
     "metadata": {},
     "output_type": "execute_result"
    }
   ],
   "source": [
    "decision_tree_model.predicted.value_counts()"
   ]
  },
  {
   "cell_type": "markdown",
   "id": "57cb2ba7-746a-443a-8155-f1564a643bc7",
   "metadata": {},
   "source": [
    "    Lets takes some metrics on our models "
   ]
  },
  {
   "cell_type": "code",
   "execution_count": 19,
   "id": "261f3a7c-4e47-4231-8ee2-1cbcb164a478",
   "metadata": {},
   "outputs": [
    {
     "name": "stdout",
     "output_type": "stream",
     "text": [
      "   model accuracy: 85.09%\n",
      "baseline accuracy: 73.02%\n",
      " % of model - baseline accuracy:12.072026375855948\n"
     ]
    }
   ],
   "source": [
    "model_accuracy = (decision_tree_model.predicted == decision_tree_model.actual).mean()\n",
    "baseline_accuracy = (decision_tree_model.baseline_pred == decision_tree_model.actual).mean()\n",
    "\n",
    "print(f'   model accuracy: {model_accuracy:.2%}')\n",
    "print(f'baseline accuracy: {baseline_accuracy:.2%}')\n",
    "print(f' % of model - baseline accuracy:{(model_accuracy - baseline_accuracy )* 100}')"
   ]
  },
  {
   "cell_type": "code",
   "execution_count": 29,
   "id": "58f31118-dc42-473d-97de-81eb624037a1",
   "metadata": {},
   "outputs": [
    {
     "name": "stdout",
     "output_type": "stream",
     "text": [
      "              precision    recall  f1-score   support\n",
      "\n",
      "           0       0.89      0.90      0.90      2879\n",
      "           1       0.73      0.71      0.72      1064\n",
      "\n",
      "    accuracy                           0.85      3943\n",
      "   macro avg       0.81      0.81      0.81      3943\n",
      "weighted avg       0.85      0.85      0.85      3943\n",
      "\n"
     ]
    }
   ],
   "source": [
    "y_true = y_train\n",
    "y_pred = decision_tree_model.predicted\n",
    "print(classification_report(y_true, y_pred))"
   ]
  },
  {
   "cell_type": "markdown",
   "id": "86c154a7-9d57-4965-9818-78b13819d4b9",
   "metadata": {
    "jp-MarkdownHeadingCollapsed": true,
    "tags": []
   },
   "source": [
    "# KNN Model "
   ]
  },
  {
   "cell_type": "code",
   "execution_count": 41,
   "id": "95c5a75d-b437-452c-86a4-fed31006aed0",
   "metadata": {},
   "outputs": [
    {
     "name": "stdout",
     "output_type": "stream",
     "text": [
      "              precision    recall  f1-score   support\n",
      "\n",
      "           0       0.99      1.00      0.99      2879\n",
      "           1       0.99      0.98      0.98      1064\n",
      "\n",
      "    accuracy                           0.99      3943\n",
      "   macro avg       0.99      0.99      0.99      3943\n",
      "weighted avg       0.99      0.99      0.99      3943\n",
      "\n"
     ]
    }
   ],
   "source": [
    "knn_df = X_train.copy()\n",
    "knn = KNeighborsClassifier(n_neighbors=10, weights='distance')\n",
    "\n",
    "knn.fit(X_train, y_train)\n",
    "\n",
    "y_pred_knn = knn.predict(X_train)\n",
    "\n",
    "y_pred_proba = knn.predict_proba(X_train)\n",
    "print(classification_report(y_train, y_pred_knn))"
   ]
  },
  {
   "cell_type": "code",
   "execution_count": 81,
   "id": "5913925f-aeab-4a5d-8e33-f4061f697530",
   "metadata": {},
   "outputs": [
    {
     "name": "stdout",
     "output_type": "stream",
     "text": [
      "              precision    recall  f1-score   support\n",
      "\n",
      "           0       0.99      1.00      0.99      2879\n",
      "           1       0.99      0.98      0.98      1064\n",
      "\n",
      "    accuracy                           0.99      3943\n",
      "   macro avg       0.99      0.99      0.99      3943\n",
      "weighted avg       0.99      0.99      0.99      3943\n",
      "\n"
     ]
    }
   ],
   "source": [
    "knn_df = X_train.copy()\n",
    "knn = KNeighborsClassifier(n_neighbors=10, weights='distance')\n",
    "\n",
    "knn.fit(X_train, y_train)\n",
    "\n",
    "y_pred_knn = knn.predict(X_train)\n",
    "\n",
    "y_pred_proba = knn.predict_proba(X_train)\n",
    "print(classification_report(y_train, y_pred_knn))\n",
    "knn_class_report = classification_report(y_train, y_pred_knn)"
   ]
  },
  {
   "cell_type": "code",
   "execution_count": null,
   "id": "bfdaaff2-0b7c-465e-92a1-3ed7ab0bc16a",
   "metadata": {},
   "outputs": [
    {
     "name": "stdout",
     "output_type": "stream",
     "text": [
      "   model accuracy: 99.19%\n",
      "baseline accuracy: 73.02%\n",
      " % of model - baseline accuracy:26.17296474765407\n"
     ]
    }
   ],
   "source": [
    "knn_df['actual'] = y_train\n",
    "knn_df['predicted'] = y_pred_knn\n",
    "\n",
    "model_accuracy = (knn_df.predicted == decision_tree_model.actual).mean()\n",
    "baseline_accuracy = (decision_tree_model.baseline_pred == decision_tree_model.actual).mean()\n",
    "\n",
    "\n",
    "print(f'   model accuracy: {model_accuracy:.2%}')\n",
    "print(f'baseline accuracy: {baseline_accuracy:.2%}')\n",
    "print(f' % of model - baseline accuracy:{(model_accuracy - baseline_accuracy )* 100}')"
   ]
  },
  {
   "cell_type": "markdown",
   "id": "facdfc4f-e6b1-46ff-9000-b8a76fcdad7b",
   "metadata": {},
   "source": [
    "    Here we are testing the validate on our model and see how it does "
   ]
  },
  {
   "cell_type": "code",
   "execution_count": 86,
   "id": "28a27464-295d-44c9-afd3-2815b786cf09",
   "metadata": {},
   "outputs": [
    {
     "name": "stdout",
     "output_type": "stream",
     "text": [
      "              precision    recall  f1-score   support\n",
      "\n",
      "           0       0.83      0.89      0.86      1263\n",
      "           1       0.57      0.45      0.51       428\n",
      "\n",
      "    accuracy                           0.78      1691\n",
      "   macro avg       0.70      0.67      0.68      1691\n",
      "weighted avg       0.76      0.78      0.77      1691\n",
      "\n"
     ]
    }
   ],
   "source": [
    "y_pred_knn_val = knn.predict(X_validate)\n",
    "\n",
    "y_pred_proba_val = knn.predict_proba(X_validate)\n",
    "print(classification_report(y_validate, y_pred_knn_val))"
   ]
  },
  {
   "cell_type": "code",
   "execution_count": 92,
   "id": "51c8a90c-8c05-4cbb-9a32-f2be87aa5924",
   "metadata": {},
   "outputs": [],
   "source": [
    "knn_df_val = X_validate.copy()\n",
    "knn_df_val['actual'] = y_validate\n",
    "knn_df_val['predicted_validate'] = y_pred_knn_val"
   ]
  },
  {
   "cell_type": "code",
   "execution_count": 96,
   "id": "b66f240a-be38-4232-9fae-dd5cd36ab549",
   "metadata": {},
   "outputs": [
    {
     "data": {
      "text/html": [
       "<div>\n",
       "<style scoped>\n",
       "    .dataframe tbody tr th:only-of-type {\n",
       "        vertical-align: middle;\n",
       "    }\n",
       "\n",
       "    .dataframe tbody tr th {\n",
       "        vertical-align: top;\n",
       "    }\n",
       "\n",
       "    .dataframe thead th {\n",
       "        text-align: right;\n",
       "    }\n",
       "</style>\n",
       "<table border=\"1\" class=\"dataframe\">\n",
       "  <thead>\n",
       "    <tr style=\"text-align: right;\">\n",
       "      <th></th>\n",
       "      <th>contract_type_one_year</th>\n",
       "      <th>contract_type_two_year</th>\n",
       "      <th>monthly_charges</th>\n",
       "      <th>total_charges</th>\n",
       "      <th>actual</th>\n",
       "      <th>predicted_validate</th>\n",
       "    </tr>\n",
       "  </thead>\n",
       "  <tbody>\n",
       "    <tr>\n",
       "      <th>5854</th>\n",
       "      <td>0</td>\n",
       "      <td>0</td>\n",
       "      <td>66.40</td>\n",
       "      <td>831.75</td>\n",
       "      <td>0</td>\n",
       "      <td>0</td>\n",
       "    </tr>\n",
       "    <tr>\n",
       "      <th>797</th>\n",
       "      <td>0</td>\n",
       "      <td>1</td>\n",
       "      <td>109.30</td>\n",
       "      <td>7337.55</td>\n",
       "      <td>0</td>\n",
       "      <td>0</td>\n",
       "    </tr>\n",
       "    <tr>\n",
       "      <th>3188</th>\n",
       "      <td>0</td>\n",
       "      <td>0</td>\n",
       "      <td>18.85</td>\n",
       "      <td>163.20</td>\n",
       "      <td>0</td>\n",
       "      <td>0</td>\n",
       "    </tr>\n",
       "    <tr>\n",
       "      <th>2254</th>\n",
       "      <td>0</td>\n",
       "      <td>0</td>\n",
       "      <td>51.10</td>\n",
       "      <td>1269.60</td>\n",
       "      <td>0</td>\n",
       "      <td>0</td>\n",
       "    </tr>\n",
       "    <tr>\n",
       "      <th>5732</th>\n",
       "      <td>0</td>\n",
       "      <td>0</td>\n",
       "      <td>19.75</td>\n",
       "      <td>19.75</td>\n",
       "      <td>0</td>\n",
       "      <td>0</td>\n",
       "    </tr>\n",
       "  </tbody>\n",
       "</table>\n",
       "</div>"
      ],
      "text/plain": [
       "      contract_type_one_year  contract_type_two_year  monthly_charges  \\\n",
       "5854                       0                       0            66.40   \n",
       "797                        0                       1           109.30   \n",
       "3188                       0                       0            18.85   \n",
       "2254                       0                       0            51.10   \n",
       "5732                       0                       0            19.75   \n",
       "\n",
       "      total_charges  actual  predicted_validate  \n",
       "5854         831.75       0                   0  \n",
       "797         7337.55       0                   0  \n",
       "3188         163.20       0                   0  \n",
       "2254        1269.60       0                   0  \n",
       "5732          19.75       0                   0  "
      ]
     },
     "execution_count": 96,
     "metadata": {},
     "output_type": "execute_result"
    }
   ],
   "source": [
    "knn_df_val.head()"
   ]
  },
  {
   "cell_type": "code",
   "execution_count": 97,
   "id": "1278cb76-12d5-42c4-a1ea-68255cda8ce9",
   "metadata": {},
   "outputs": [
    {
     "data": {
      "text/html": [
       "<div>\n",
       "<style scoped>\n",
       "    .dataframe tbody tr th:only-of-type {\n",
       "        vertical-align: middle;\n",
       "    }\n",
       "\n",
       "    .dataframe tbody tr th {\n",
       "        vertical-align: top;\n",
       "    }\n",
       "\n",
       "    .dataframe thead th {\n",
       "        text-align: right;\n",
       "    }\n",
       "</style>\n",
       "<table border=\"1\" class=\"dataframe\">\n",
       "  <thead>\n",
       "    <tr style=\"text-align: right;\">\n",
       "      <th></th>\n",
       "      <th>contract_type_one_year</th>\n",
       "      <th>contract_type_two_year</th>\n",
       "      <th>monthly_charges</th>\n",
       "      <th>total_charges</th>\n",
       "      <th>prediction</th>\n",
       "      <th>actual</th>\n",
       "    </tr>\n",
       "  </thead>\n",
       "  <tbody>\n",
       "    <tr>\n",
       "      <th>4604</th>\n",
       "      <td>0</td>\n",
       "      <td>0</td>\n",
       "      <td>88.65</td>\n",
       "      <td>2683.2</td>\n",
       "      <td>0</td>\n",
       "      <td>0</td>\n",
       "    </tr>\n",
       "  </tbody>\n",
       "</table>\n",
       "</div>"
      ],
      "text/plain": [
       "      contract_type_one_year  contract_type_two_year  monthly_charges  \\\n",
       "4604                       0                       0            88.65   \n",
       "\n",
       "      total_charges  prediction  actual  \n",
       "4604         2683.2           0       0  "
      ]
     },
     "execution_count": 97,
     "metadata": {},
     "output_type": "execute_result"
    }
   ],
   "source": [
    "base_line_df.head(1)"
   ]
  },
  {
   "cell_type": "markdown",
   "id": "17ab70b5-a6c4-4c2e-b652-41e37c14c68b",
   "metadata": {
    "jp-MarkdownHeadingCollapsed": true,
    "tags": []
   },
   "source": [
    "# Logistic Regression Model"
   ]
  },
  {
   "cell_type": "code",
   "execution_count": 74,
   "id": "dc1a92f8-1440-4f99-b981-568138dddeb1",
   "metadata": {},
   "outputs": [
    {
     "name": "stdout",
     "output_type": "stream",
     "text": [
      "              precision    recall  f1-score   support\n",
      "\n",
      "           0       0.99      0.03      0.05      2879\n",
      "           1       0.27      1.00      0.43      1064\n",
      "\n",
      "    accuracy                           0.29      3943\n",
      "   macro avg       0.63      0.51      0.24      3943\n",
      "weighted avg       0.79      0.29      0.15      3943\n",
      "\n"
     ]
    }
   ],
   "source": [
    "# from sklearn.linear_model import LogisticRegression\n",
    "logit = LogisticRegression(C=1, class_weight={0:1, 1:99}, random_state=123, intercept_scaling=1, solver='lbfgs')\n",
    "logit.fit(X_train, y_train)\n",
    "y_pred_logit = logit.predict(X_train)\n",
    "logit_df = X_train.copy()\n",
    "logit_df['actual'] = y_train\n",
    "logit_df['predicted'] = y_pred_logit\n",
    "print(classification_report(y_train, y_pred_logit))"
   ]
  },
  {
   "cell_type": "code",
   "execution_count": 76,
   "id": "21bcd5a5-f656-4903-bffb-c334c8cb3926",
   "metadata": {},
   "outputs": [
    {
     "name": "stdout",
     "output_type": "stream",
     "text": [
      "              precision    recall  f1-score   support\n",
      "\n",
      "           0       1.00      0.00      0.01      2879\n",
      "           1       0.27      1.00      0.43      1064\n",
      "\n",
      "    accuracy                           0.27      3943\n",
      "   macro avg       0.64      0.50      0.22      3943\n",
      "weighted avg       0.80      0.27      0.12      3943\n",
      "\n"
     ]
    }
   ],
   "source": [
    "# now for it set to c \n",
    "logit2 = LogisticRegression(C=.1, class_weight={0:1, 1:99}, random_state=123, intercept_scaling=1, solver='lbfgs')\n",
    "logit2.fit(X_train, y_train)\n",
    "y_pred2 = logit2.predict(X_train)\n",
    "y_pred_proba2 = logit2.predict_proba(X_train)\n",
    "\n",
    "print(classification_report(y_train, y_pred2))"
   ]
  },
  {
   "cell_type": "code",
   "execution_count": null,
   "id": "eef5347f-fa68-401a-b3a3-f47c21416161",
   "metadata": {
    "tags": []
   },
   "outputs": [
    {
     "name": "stdout",
     "output_type": "stream",
     "text": [
      "Coefficient: \n",
      " [[-1.64947634e+00 -2.64109290e+00  3.50166042e-02 -2.33799206e-04]]\n",
      "Intercept: \n",
      " [2.34206615]\n"
     ]
    }
   ],
   "source": [
    "print('Coefficient: \\n', logit.coef_)\n",
    "print('Intercept: \\n', logit.intercept_)\n"
   ]
  },
  {
   "cell_type": "markdown",
   "id": "4eec10f8-48f0-41bf-9deb-b68e47f20e0a",
   "metadata": {},
   "source": [
    "| Metric     | Explanation |\n",
    "|------------|-------------|\n",
    "| Precision  | The proportion of predicted positives that are actually positive. A high precision score indicates that the classifier is good at identifying true positives and has a low false positive rate. |\n",
    "| Recall     | The proportion of actual positives that were correctly identified by the classifier. A high recall score indicates that the classifier is good at identifying all positive instances, and has a low false negative rate. |\n",
    "| F1-score   | A weighted average of precision and recall, and provides a balanced measure of the classifier's performance. It combines precision and recall into a single score that ranges from 0 to 1, with 1 being the best possible score. |\n",
    "| Support    | The number of samples in each class in the test set. |\n",
    "| Accuracy   | The percentage of correct predictions over the total number of predictions made. In this case, the accuracy is 0.83, indicating the classifier correctly classified 83% of the samples in the test set. |\n",
    "| Macro Avg  | The unweighted average of precision, recall, and F1-score across both classes. |\n",
    "| Weighted Avg | The weighted average of precision, recall, and F1-score across both classes, weighted by the number of samples in each class. |\n"
   ]
  },
  {
   "cell_type": "markdown",
   "id": "5a698ddd-a4f1-491a-8f08-c76221fef6f6",
   "metadata": {
    "jp-MarkdownHeadingCollapsed": true,
    "tags": []
   },
   "source": [
    "# Random Forest "
   ]
  },
  {
   "cell_type": "code",
   "execution_count": 114,
   "id": "6149a141-ce7f-48fd-91d5-0d6bceb9cfcb",
   "metadata": {},
   "outputs": [],
   "source": [
    "rf = RandomForestClassifier(bootstrap=True, \n",
    "                            class_weight=None, \n",
    "                            criterion='gini',\n",
    "                            min_samples_leaf=3,\n",
    "                            n_estimators=100,\n",
    "                            max_depth=3, \n",
    "                            random_state=123)\n",
    "rf.fit(X_train, y_train)\n",
    "y_pred_rf = rf.predict(X_train)\n",
    "random_forest = X_train.copy()\n",
    "random_forest['actual'] = y_train\n",
    "random_forest['predicted'] = y_pred_rf"
   ]
  },
  {
   "cell_type": "code",
   "execution_count": 118,
   "id": "e32daa6f-9b91-470f-b277-b7dc2326940d",
   "metadata": {},
   "outputs": [
    {
     "name": "stdout",
     "output_type": "stream",
     "text": [
      "              precision    recall  f1-score   support\n",
      "\n",
      "           0       0.77      0.97      0.86      2879\n",
      "           1       0.73      0.23      0.36      1064\n",
      "\n",
      "    accuracy                           0.77      3943\n",
      "   macro avg       0.75      0.60      0.61      3943\n",
      "weighted avg       0.76      0.77      0.72      3943\n",
      "\n"
     ]
    }
   ],
   "source": [
    "print(classification_report(y_train, y_pred_rf))"
   ]
  },
  {
   "cell_type": "code",
   "execution_count": 119,
   "id": "c107430c-851e-41e7-a119-aac7086c31e2",
   "metadata": {},
   "outputs": [
    {
     "name": "stdout",
     "output_type": "stream",
     "text": [
      "Accuracy of random forest classifier on test set: 0.79\n"
     ]
    }
   ],
   "source": [
    "print('Accuracy of random forest classifier on test set: {:.2f}'\n",
    "     .format(rf.score(X_validate, y_validate)))"
   ]
  }
 ],
 "metadata": {
  "kernelspec": {
   "display_name": "Python 3 (ipykernel)",
   "language": "python",
   "name": "python3"
  },
  "language_info": {
   "codemirror_mode": {
    "name": "ipython",
    "version": 3
   },
   "file_extension": ".py",
   "mimetype": "text/x-python",
   "name": "python",
   "nbconvert_exporter": "python",
   "pygments_lexer": "ipython3",
   "version": "3.9.13"
  }
 },
 "nbformat": 4,
 "nbformat_minor": 5
}
